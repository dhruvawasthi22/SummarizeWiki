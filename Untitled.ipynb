{
 "cells": [
  {
   "cell_type": "code",
   "execution_count": 72,
   "metadata": {},
   "outputs": [],
   "source": [
    "import bs4 as bs\n",
    "import urllib.request\n",
    "scrapped_data=urllib.request.urlopen('https://en.wikipedia.org/wiki/Aviation')\n",
    "article=scrapped_data.read()\n",
    "parsed_article=bs.BeautifulSoup(article,'lxml')\n",
    "para=parsed_article.find_all('p')\n",
    "text=''\n",
    "for p in para:\n",
    "    text += p.text"
   ]
  },
  {
   "cell_type": "code",
   "execution_count": 73,
   "metadata": {},
   "outputs": [
    {
     "data": {
      "text/plain": [
       "'Aviation is the activities surrounding mechanical flight and the aircraft industry. Aircraft includes fixed-wing and rotary-wing types, morphable wings, wing-less lifting bodies, as well as lighter-than-air craft such as hot air balloons and airships.\\nAviation began in the 18th century with the development of the hot air balloon, an apparatus capable of atmospheric displacement through buoyancy. Some of the most significant advancements in aviation technology came with the controlled gliding flying of Otto Lilienthal in 1896; then a large step in significance came with the construction of the first powered airplane by the Wright brothers in the early 1900s. Since that time, aviation has been technologically revolutionized by the introduction of the jet which permitted a major form of transport throughout the world.\\nThe word aviation was coined by the French writer and former naval officer Gabriel La Landelle in 1863.[1] He derived the term from the verb avier (an unsuccessful neologism for \"to fly\"), itself derived from the Latin word avis (\"bird\") and the suffix -ation.[2]\\nThere are early legends of human flight such as the stories of Icarus in Greek myth, Jamshid and Shah Kay Kāvus in Persian myth,[3] and the flying automaton of Archytas of Tarentum (428–347 BC).[4] Later, somewhat more credible claims of short-distance human flights appear, such as the winged flights of Abbas ibn Firnas (810–887), Eilmer of Malmesbury (11th century), and the hot-air Passarola of Bartholomeu Lourenço de Gusmão (1685–1724).\\nThe modern age of aviation began with the first untethered human lighter-than-air flight on November 21, 1783, of a hot air balloon designed by the Montgolfier brothers.[5] The practicality of balloons was limited because they could only travel downwind. It was immediately recognized that a steerable, or dirigible, balloon was required. Jean-Pierre Blanchard flew the first human-powered dirigible in 1784 and crossed the English Channel in one in 1785.\\nRigid airships became the first aircraft to transport passengers and cargo over great distances. The best known aircraft of this type were manufactured by the German Zeppelin company.\\nThe most successful Zeppelin was the Graf Zeppelin. It flew over one million miles, including an around-the-world flight in August 1929. However, the dominance of the Zeppelins over the airplanes of that period, which had a range of only a few hundred miles, was diminishing as airplane design advanced. The \"Golden Age\" of the airships ended on May 6, 1937, when the Hindenburg caught fire, killing 36 people. The cause of the Hindenburg accident was initially blamed on the use of hydrogen instead of helium as the lift gas. An internal investigation by the manufacturer revealed that the coating used in the material covering the frame was highly flammable and allowed static electricity to build up in the airship.[6] Changes to the coating formulation reduced the risk of further Hindenburg type accidents. Although there have been periodic initiatives to revive their use, airships have seen only niche application since that time.[7]\\nIn 1799, Sir George Cayley set forth the concept of the modern airplane as a fixed-wing flying machine with separate systems for lift, propulsion, and control.[8][9] Early dirigible developments included machine-powered propulsion (Henri Giffard, 1852), rigid frames (David Schwarz, 1896) and improved speed and maneuverability (Alberto Santos-Dumont, 1901)\\nThere are many competing claims for the earliest powered, heavier-than-air flight. The first recorded powered flight was carried out by Clément Ader on October 9, 1890, in his bat-winged, fully self-propelled fixed-wing aircraft, the Ader Éole. It was reportedly the first manned, powered, heavier-than-air flight of a significant distance (50\\xa0m (160\\xa0ft)) but insignificant altitude from level ground.[10][11][12] Seven years later, on 14 October 1897, Ader\\'s Avion III was tested without success in front of two officials from the French War ministry. The report on the trials was not publicized until 1910, as they had been a military secret. In November 1906, Ader claimed to have made a successful flight on 14 October 1897, achieving an \"uninterrupted flight\" of around 300 metres (980 feet). Although widely believed at the time, these claims were later discredited.[13][14]\\nThe Wright brothers made the first successful powered, controlled and sustained airplane flight on December 17, 1903, a feat made possible by their invention of three-axis control. Only a decade later, at the start of World War I, heavier-than-air powered aircraft had become practical for reconnaissance, artillery spotting, and even attacks against ground positions.\\nAircraft began to transport people and cargo as designs grew larger and more reliable. The Wright brothers took aloft the first passenger, Charles Furnas, one of their mechanics, on May 14, 1908.[15][16]\\nDuring the 1920s and 1930s great progress was made in the field of aviation, including the first transatlantic flight of Alcock and Brown in 1919, Charles Lindbergh\\'s solo transatlantic flight in 1927, and Charles Kingsford Smith\\'s transpacific flight the following year. One of the most successful designs of this period was the Douglas DC-3, which became the first airliner to be profitable carrying passengers exclusively, starting the modern era of passenger airline service. By the beginning of World War II, many towns and cities had built airports, and there were numerous qualified pilots available. The war brought many innovations to aviation, including the first jet aircraft and the first liquid-fueled rockets.\\nAfter World War II, especially in North America, there was a boom in general aviation, both private and commercial, as thousands of pilots were released from military service and many inexpensive war-surplus transport and training aircraft became available. Manufacturers such as Cessna, Piper, and Beechcraft expanded production to provide light aircraft for the new middle-class market.\\nBy the 1950s, the development of civil jets grew, beginning with the de Havilland Comet, though the first widely used passenger jet was the Boeing 707, because it was much more economical than other aircraft at that time. At the same time, turboprop propulsion began to appear for smaller commuter planes, making it possible to serve small-volume routes in a much wider range of weather conditions.\\nSince the 1960s composite material airframes and quieter, more efficient engines have become available, and Concorde provided supersonic passenger service for more than two decades, but the most important lasting innovations have taken place in instrumentation and control. The arrival of solid-state electronics, the Global Positioning System, satellite communications, and increasingly small and powerful computers and LED displays, have dramatically changed the cockpits of airliners and, increasingly, of smaller aircraft as well. Pilots can navigate much more accurately and view terrain, obstructions, and other nearby aircraft on a map or through synthetic vision, even at night or in low visibility.\\nOn June 21, 2004, SpaceShipOne became the first privately funded aircraft to make a spaceflight, opening the possibility of an aviation market capable of leaving the Earth\\'s atmosphere. Meanwhile, flying prototypes of aircraft powered by alternative fuels, such as ethanol, electricity, and even solar energy, are becoming more common.\\nCivil aviation includes all non-military flying, both general aviation and scheduled air transport.\\nThere are five major manufacturers of civil transport aircraft (in alphabetical order):\\nBoeing, Airbus, Ilyushin and Tupolev concentrate on wide-body and narrow-body jet airliners, while Bombardier, Embraer and Sukhoi concentrate on regional airliners. Large networks of specialized parts suppliers from around the world support these manufacturers, who sometimes provide only the initial design and final assembly in their own plants. The Chinese ACAC consortium will also soon enter the civil transport market with its Comac ARJ21 regional jet.[18]\\nUntil the 1970s, most major airlines were flag carriers, sponsored by their governments and heavily protected from competition. Since then, open skies agreements have resulted in increased competition and choice for consumers, coupled with falling prices for airlines. The combination of high fuel prices, low fares, high salaries, and crises such as the September 11 attacks and the SARS epidemic have driven many older airlines to government-bailouts, bankruptcy or mergers. At the same time, low-cost carriers such as Ryanair, Southwest and WestJet have flourished.\\nGeneral aviation includes all non-scheduled civil flying, both private and commercial. General aviation may include business flights, air charter, private aviation, flight training, ballooning, paragliding, parachuting, gliding, hang gliding, aerial photography, foot-launched powered hang gliders, air ambulance, crop dusting, charter flights, traffic reporting, police air patrols and forest fire fighting.\\nEach country regulates aviation differently, but general aviation usually falls under different regulations depending on whether it is private or commercial and on the type of equipment involved.\\nMany small aircraft manufacturers serve the general aviation market, with a focus on private aviation and flight training.\\nThe most important recent developments for small aircraft (which form the bulk of the GA fleet) have been the introduction of advanced avionics (including GPS) that were formerly found only in large airliners, and the introduction of composite materials to make small aircraft lighter and faster. Ultralight and homebuilt aircraft have also become increasingly popular for recreational use, since in most countries that allow private aviation, they are much less expensive and less heavily regulated than certified aircraft.\\nSimple balloons were used as surveillance aircraft as early as the 18th century. Over the years, military aircraft have been built to meet ever increasing capability requirements. Manufacturers of military aircraft compete for contracts to supply their government\\'s arsenal. Aircraft are selected based on factors like cost, performance, and the speed of production.\\nAviation safety means the state of an aviation system or organization in which risks associated with aviation activities, related to, or in direct support of the operation of aircraft, are reduced and controlled to an acceptable level. It encompasses the theory, practice, investigation, and categorization of flight failures, and the prevention of such failures through regulation, education, and training. It can also be applied in the context of campaigns that inform the public as to the safety of air travel. The worst aviation accident in history was the Tenerife airport disaster on March 27, 1977, when 583 people died when two Boeing 747 jumbo jets, operated by Pan Am and KLM collided on a runway in Los Rodeos airport, now known as Tenerife North.\\nAn aviation accident is defined by the Convention on International Civil Aviation Annex 13 as an occurrence associated with the operation of an aircraft which takes place between the time any person boards the aircraft with the intention of flight until such time as all such persons have disembarked, in which a person is fatally or seriously injured, the aircraft sustains damage or structural failure or the aircraft is missing or is completely inaccessible.[20]\\nThe first fatal aviation accident occurred in a Wright Model A aircraft at Fort Myer, Virginia, USA, on September 17, 1908, resulting in injury to the pilot, Orville Wright, and death of the passenger, Signal Corps Lieutenant Thomas Selfridge.[21]\\nAn aviation incident is defined as an occurrence, other than an accident, associated with the operation of an aircraft that affects or could affect the safety of operations.[22]\\nAn accident in which the damage to the aircraft is such that it must be written off, or in which the plane is destroyed, is called a hull loss accident.[22]\\nAir traffic control (ATC) involves communication with aircraft to help maintain separation\\xa0– that is, they ensure that aircraft are sufficiently far enough apart horizontally or vertically for no risk of collision. Controllers may co-ordinate position reports provided by pilots, or in high traffic areas (such as the United States) they may use radar to see aircraft positions.\\nThere are generally four different types of ATC:\\nATC is especially important for aircraft flying under instrument flight rules (IFR), when they may be in weather conditions that do not allow the pilots to see other aircraft. However, in very high-traffic areas, especially near major airports, aircraft flying under visual flight rules (VFR) are also required to follow instructions from ATC.\\nIn addition to separation from other aircraft, ATC may provide weather advisories, terrain separation, navigation assistance, and other services to pilots, depending on their workload.\\nATC do not control all flights. The majority of VFR (Visual Flight Rules) flights in North America are not required to contact ATC (unless they are passing through a busy terminal area or using a major airport), and in many areas, such as northern Canada and low altitude in northern Scotland, Air traffic control services are not available even for IFR flights at lower altitudes.\\n\\nLike all activities involving combustion, operating powered aircraft (from airliners to hot air balloons) releases soot and other pollutants into the atmosphere. Greenhouse gases such as carbon dioxide (CO2) are also produced. In addition, there are environmental impacts specific to aviation: for instance, Another environmental impact of aviation is noise pollution, mainly caused by aircraft taking off and landing. Sonic booms were a problem with supersonic aircraft such as the concorde\\n'"
      ]
     },
     "execution_count": 73,
     "metadata": {},
     "output_type": "execute_result"
    }
   ],
   "source": [
    "text"
   ]
  },
  {
   "cell_type": "code",
   "execution_count": 74,
   "metadata": {},
   "outputs": [
    {
     "data": {
      "application/javascript": [
       "\n",
       "        if (window._pyforest_update_imports_cell) { window._pyforest_update_imports_cell('from sklearn.preprocessing import OneHotEncoder\\nimport sys\\nfrom sklearn.ensemble import RandomForestClassifier\\nfrom sklearn.ensemble import RandomForestRegressor\\nimport nltk\\nimport seaborn as sns\\nfrom pathlib import Path\\nfrom sklearn.ensemble import GradientBoostingRegressor\\nimport statistics\\nimport sklearn\\nfrom sklearn.ensemble import GradientBoostingClassifier\\nimport re\\nfrom sklearn import svm'); }\n",
       "    "
      ],
      "text/plain": [
       "<IPython.core.display.Javascript object>"
      ]
     },
     "metadata": {},
     "output_type": "display_data"
    },
    {
     "data": {
      "application/javascript": [
       "\n",
       "        if (window._pyforest_update_imports_cell) { window._pyforest_update_imports_cell('from sklearn.preprocessing import OneHotEncoder\\nimport sys\\nfrom sklearn.ensemble import RandomForestClassifier\\nfrom sklearn.ensemble import RandomForestRegressor\\nimport nltk\\nimport seaborn as sns\\nfrom pathlib import Path\\nfrom sklearn.ensemble import GradientBoostingRegressor\\nimport statistics\\nimport sklearn\\nfrom sklearn.ensemble import GradientBoostingClassifier\\nimport re\\nfrom sklearn import svm'); }\n",
       "    "
      ],
      "text/plain": [
       "<IPython.core.display.Javascript object>"
      ]
     },
     "metadata": {},
     "output_type": "display_data"
    }
   ],
   "source": [
    "#removing all the references enclosed in [] and the spaces left over after removing the []\n",
    "text = re.sub(r'\\[[0-9]*\\]', ' ', text)\n",
    "text = re.sub(r'\\s+', ' ', text)\n",
    "\n"
   ]
  },
  {
   "cell_type": "code",
   "execution_count": 75,
   "metadata": {},
   "outputs": [
    {
     "data": {
      "application/javascript": [
       "\n",
       "        if (window._pyforest_update_imports_cell) { window._pyforest_update_imports_cell('from sklearn.preprocessing import OneHotEncoder\\nimport sys\\nfrom sklearn.ensemble import RandomForestClassifier\\nfrom sklearn.ensemble import RandomForestRegressor\\nimport nltk\\nimport seaborn as sns\\nfrom pathlib import Path\\nfrom sklearn.ensemble import GradientBoostingRegressor\\nimport statistics\\nimport sklearn\\nfrom sklearn.ensemble import GradientBoostingClassifier\\nimport re\\nfrom sklearn import svm'); }\n",
       "    "
      ],
      "text/plain": [
       "<IPython.core.display.Javascript object>"
      ]
     },
     "metadata": {},
     "output_type": "display_data"
    },
    {
     "data": {
      "application/javascript": [
       "\n",
       "        if (window._pyforest_update_imports_cell) { window._pyforest_update_imports_cell('from sklearn.preprocessing import OneHotEncoder\\nimport sys\\nfrom sklearn.ensemble import RandomForestClassifier\\nfrom sklearn.ensemble import RandomForestRegressor\\nimport nltk\\nimport seaborn as sns\\nfrom pathlib import Path\\nfrom sklearn.ensemble import GradientBoostingRegressor\\nimport statistics\\nimport sklearn\\nfrom sklearn.ensemble import GradientBoostingClassifier\\nimport re\\nfrom sklearn import svm'); }\n",
       "    "
      ],
      "text/plain": [
       "<IPython.core.display.Javascript object>"
      ]
     },
     "metadata": {},
     "output_type": "display_data"
    }
   ],
   "source": [
    "# Removing special characters and digits\n",
    "formatted_article_text = re.sub('[^a-zA-Z]', ' ', text )\n",
    "formatted_article_text = re.sub(r'\\s+', ' ', formatted_article_text)"
   ]
  },
  {
   "cell_type": "code",
   "execution_count": 76,
   "metadata": {},
   "outputs": [
    {
     "data": {
      "application/javascript": [
       "\n",
       "        if (window._pyforest_update_imports_cell) { window._pyforest_update_imports_cell('from sklearn.preprocessing import OneHotEncoder\\nimport sys\\nfrom sklearn.ensemble import RandomForestClassifier\\nfrom sklearn.ensemble import RandomForestRegressor\\nimport nltk\\nimport seaborn as sns\\nfrom pathlib import Path\\nfrom sklearn.ensemble import GradientBoostingRegressor\\nimport statistics\\nimport sklearn\\nfrom sklearn.ensemble import GradientBoostingClassifier\\nimport re\\nfrom sklearn import svm'); }\n",
       "    "
      ],
      "text/plain": [
       "<IPython.core.display.Javascript object>"
      ]
     },
     "metadata": {},
     "output_type": "display_data"
    }
   ],
   "source": [
    "sentence_list = nltk.sent_tokenize(text)"
   ]
  },
  {
   "cell_type": "code",
   "execution_count": 77,
   "metadata": {},
   "outputs": [],
   "source": [
    "#loading stop words\n",
    "import spacy\n",
    "nlp=spacy.load('en_core_web_sm')\n",
    "stopwords=nlp.Defaults.stop_words"
   ]
  },
  {
   "cell_type": "code",
   "execution_count": 78,
   "metadata": {},
   "outputs": [
    {
     "data": {
      "application/javascript": [
       "\n",
       "        if (window._pyforest_update_imports_cell) { window._pyforest_update_imports_cell('from sklearn.preprocessing import OneHotEncoder\\nimport sys\\nfrom sklearn.ensemble import RandomForestClassifier\\nfrom sklearn.ensemble import RandomForestRegressor\\nimport nltk\\nimport seaborn as sns\\nfrom pathlib import Path\\nfrom sklearn.ensemble import GradientBoostingRegressor\\nimport statistics\\nimport sklearn\\nfrom sklearn.ensemble import GradientBoostingClassifier\\nimport re\\nfrom sklearn import svm'); }\n",
       "    "
      ],
      "text/plain": [
       "<IPython.core.display.Javascript object>"
      ]
     },
     "metadata": {},
     "output_type": "display_data"
    }
   ],
   "source": [
    "word_freq = {}\n",
    "for word in nltk.word_tokenize(formatted_article_text):\n",
    "    if word not in stopwords:\n",
    "        if word not in word_freq.keys():\n",
    "            word_freq[word] = 1\n",
    "        else:\n",
    "            word_freq[word] += 1"
   ]
  },
  {
   "cell_type": "code",
   "execution_count": 79,
   "metadata": {},
   "outputs": [],
   "source": [
    "#calculating weighted word frequency\n",
    "max_freq = max(word_freq.values())\n",
    "\n",
    "for word in word_freq.keys():\n",
    "    word_freq[word] = (word_freq[word]/max_freq)"
   ]
  },
  {
   "cell_type": "code",
   "execution_count": 80,
   "metadata": {},
   "outputs": [
    {
     "data": {
      "application/javascript": [
       "\n",
       "        if (window._pyforest_update_imports_cell) { window._pyforest_update_imports_cell('from sklearn.preprocessing import OneHotEncoder\\nimport sys\\nfrom sklearn.ensemble import RandomForestClassifier\\nfrom sklearn.ensemble import RandomForestRegressor\\nimport nltk\\nimport seaborn as sns\\nfrom pathlib import Path\\nfrom sklearn.ensemble import GradientBoostingRegressor\\nimport statistics\\nimport sklearn\\nfrom sklearn.ensemble import GradientBoostingClassifier\\nimport re\\nfrom sklearn import svm'); }\n",
       "    "
      ],
      "text/plain": [
       "<IPython.core.display.Javascript object>"
      ]
     },
     "metadata": {},
     "output_type": "display_data"
    },
    {
     "data": {
      "application/javascript": [
       "\n",
       "        if (window._pyforest_update_imports_cell) { window._pyforest_update_imports_cell('from sklearn.preprocessing import OneHotEncoder\\nimport sys\\nfrom sklearn.ensemble import RandomForestClassifier\\nfrom sklearn.ensemble import RandomForestRegressor\\nimport nltk\\nimport seaborn as sns\\nfrom pathlib import Path\\nfrom sklearn.ensemble import GradientBoostingRegressor\\nimport statistics\\nimport sklearn\\nfrom sklearn.ensemble import GradientBoostingClassifier\\nimport re\\nfrom sklearn import svm'); }\n",
       "    "
      ],
      "text/plain": [
       "<IPython.core.display.Javascript object>"
      ]
     },
     "metadata": {},
     "output_type": "display_data"
    },
    {
     "data": {
      "application/javascript": [
       "\n",
       "        if (window._pyforest_update_imports_cell) { window._pyforest_update_imports_cell('from sklearn.preprocessing import OneHotEncoder\\nimport sys\\nfrom sklearn.ensemble import RandomForestClassifier\\nfrom sklearn.ensemble import RandomForestRegressor\\nimport nltk\\nimport seaborn as sns\\nfrom pathlib import Path\\nfrom sklearn.ensemble import GradientBoostingRegressor\\nimport statistics\\nimport sklearn\\nfrom sklearn.ensemble import GradientBoostingClassifier\\nimport re\\nfrom sklearn import svm'); }\n",
       "    "
      ],
      "text/plain": [
       "<IPython.core.display.Javascript object>"
      ]
     },
     "metadata": {},
     "output_type": "display_data"
    },
    {
     "data": {
      "application/javascript": [
       "\n",
       "        if (window._pyforest_update_imports_cell) { window._pyforest_update_imports_cell('from sklearn.preprocessing import OneHotEncoder\\nimport sys\\nfrom sklearn.ensemble import RandomForestClassifier\\nfrom sklearn.ensemble import RandomForestRegressor\\nimport nltk\\nimport seaborn as sns\\nfrom pathlib import Path\\nfrom sklearn.ensemble import GradientBoostingRegressor\\nimport statistics\\nimport sklearn\\nfrom sklearn.ensemble import GradientBoostingClassifier\\nimport re\\nfrom sklearn import svm'); }\n",
       "    "
      ],
      "text/plain": [
       "<IPython.core.display.Javascript object>"
      ]
     },
     "metadata": {},
     "output_type": "display_data"
    },
    {
     "data": {
      "application/javascript": [
       "\n",
       "        if (window._pyforest_update_imports_cell) { window._pyforest_update_imports_cell('from sklearn.preprocessing import OneHotEncoder\\nimport sys\\nfrom sklearn.ensemble import RandomForestClassifier\\nfrom sklearn.ensemble import RandomForestRegressor\\nimport nltk\\nimport seaborn as sns\\nfrom pathlib import Path\\nfrom sklearn.ensemble import GradientBoostingRegressor\\nimport statistics\\nimport sklearn\\nfrom sklearn.ensemble import GradientBoostingClassifier\\nimport re\\nfrom sklearn import svm'); }\n",
       "    "
      ],
      "text/plain": [
       "<IPython.core.display.Javascript object>"
      ]
     },
     "metadata": {},
     "output_type": "display_data"
    },
    {
     "data": {
      "application/javascript": [
       "\n",
       "        if (window._pyforest_update_imports_cell) { window._pyforest_update_imports_cell('from sklearn.preprocessing import OneHotEncoder\\nimport sys\\nfrom sklearn.ensemble import RandomForestClassifier\\nfrom sklearn.ensemble import RandomForestRegressor\\nimport nltk\\nimport seaborn as sns\\nfrom pathlib import Path\\nfrom sklearn.ensemble import GradientBoostingRegressor\\nimport statistics\\nimport sklearn\\nfrom sklearn.ensemble import GradientBoostingClassifier\\nimport re\\nfrom sklearn import svm'); }\n",
       "    "
      ],
      "text/plain": [
       "<IPython.core.display.Javascript object>"
      ]
     },
     "metadata": {},
     "output_type": "display_data"
    },
    {
     "data": {
      "application/javascript": [
       "\n",
       "        if (window._pyforest_update_imports_cell) { window._pyforest_update_imports_cell('from sklearn.preprocessing import OneHotEncoder\\nimport sys\\nfrom sklearn.ensemble import RandomForestClassifier\\nfrom sklearn.ensemble import RandomForestRegressor\\nimport nltk\\nimport seaborn as sns\\nfrom pathlib import Path\\nfrom sklearn.ensemble import GradientBoostingRegressor\\nimport statistics\\nimport sklearn\\nfrom sklearn.ensemble import GradientBoostingClassifier\\nimport re\\nfrom sklearn import svm'); }\n",
       "    "
      ],
      "text/plain": [
       "<IPython.core.display.Javascript object>"
      ]
     },
     "metadata": {},
     "output_type": "display_data"
    },
    {
     "data": {
      "application/javascript": [
       "\n",
       "        if (window._pyforest_update_imports_cell) { window._pyforest_update_imports_cell('from sklearn.preprocessing import OneHotEncoder\\nimport sys\\nfrom sklearn.ensemble import RandomForestClassifier\\nfrom sklearn.ensemble import RandomForestRegressor\\nimport nltk\\nimport seaborn as sns\\nfrom pathlib import Path\\nfrom sklearn.ensemble import GradientBoostingRegressor\\nimport statistics\\nimport sklearn\\nfrom sklearn.ensemble import GradientBoostingClassifier\\nimport re\\nfrom sklearn import svm'); }\n",
       "    "
      ],
      "text/plain": [
       "<IPython.core.display.Javascript object>"
      ]
     },
     "metadata": {},
     "output_type": "display_data"
    },
    {
     "data": {
      "application/javascript": [
       "\n",
       "        if (window._pyforest_update_imports_cell) { window._pyforest_update_imports_cell('from sklearn.preprocessing import OneHotEncoder\\nimport sys\\nfrom sklearn.ensemble import RandomForestClassifier\\nfrom sklearn.ensemble import RandomForestRegressor\\nimport nltk\\nimport seaborn as sns\\nfrom pathlib import Path\\nfrom sklearn.ensemble import GradientBoostingRegressor\\nimport statistics\\nimport sklearn\\nfrom sklearn.ensemble import GradientBoostingClassifier\\nimport re\\nfrom sklearn import svm'); }\n",
       "    "
      ],
      "text/plain": [
       "<IPython.core.display.Javascript object>"
      ]
     },
     "metadata": {},
     "output_type": "display_data"
    },
    {
     "data": {
      "application/javascript": [
       "\n",
       "        if (window._pyforest_update_imports_cell) { window._pyforest_update_imports_cell('from sklearn.preprocessing import OneHotEncoder\\nimport sys\\nfrom sklearn.ensemble import RandomForestClassifier\\nfrom sklearn.ensemble import RandomForestRegressor\\nimport nltk\\nimport seaborn as sns\\nfrom pathlib import Path\\nfrom sklearn.ensemble import GradientBoostingRegressor\\nimport statistics\\nimport sklearn\\nfrom sklearn.ensemble import GradientBoostingClassifier\\nimport re\\nfrom sklearn import svm'); }\n",
       "    "
      ],
      "text/plain": [
       "<IPython.core.display.Javascript object>"
      ]
     },
     "metadata": {},
     "output_type": "display_data"
    },
    {
     "data": {
      "application/javascript": [
       "\n",
       "        if (window._pyforest_update_imports_cell) { window._pyforest_update_imports_cell('from sklearn.preprocessing import OneHotEncoder\\nimport sys\\nfrom sklearn.ensemble import RandomForestClassifier\\nfrom sklearn.ensemble import RandomForestRegressor\\nimport nltk\\nimport seaborn as sns\\nfrom pathlib import Path\\nfrom sklearn.ensemble import GradientBoostingRegressor\\nimport statistics\\nimport sklearn\\nfrom sklearn.ensemble import GradientBoostingClassifier\\nimport re\\nfrom sklearn import svm'); }\n",
       "    "
      ],
      "text/plain": [
       "<IPython.core.display.Javascript object>"
      ]
     },
     "metadata": {},
     "output_type": "display_data"
    },
    {
     "data": {
      "application/javascript": [
       "\n",
       "        if (window._pyforest_update_imports_cell) { window._pyforest_update_imports_cell('from sklearn.preprocessing import OneHotEncoder\\nimport sys\\nfrom sklearn.ensemble import RandomForestClassifier\\nfrom sklearn.ensemble import RandomForestRegressor\\nimport nltk\\nimport seaborn as sns\\nfrom pathlib import Path\\nfrom sklearn.ensemble import GradientBoostingRegressor\\nimport statistics\\nimport sklearn\\nfrom sklearn.ensemble import GradientBoostingClassifier\\nimport re\\nfrom sklearn import svm'); }\n",
       "    "
      ],
      "text/plain": [
       "<IPython.core.display.Javascript object>"
      ]
     },
     "metadata": {},
     "output_type": "display_data"
    },
    {
     "data": {
      "application/javascript": [
       "\n",
       "        if (window._pyforest_update_imports_cell) { window._pyforest_update_imports_cell('from sklearn.preprocessing import OneHotEncoder\\nimport sys\\nfrom sklearn.ensemble import RandomForestClassifier\\nfrom sklearn.ensemble import RandomForestRegressor\\nimport nltk\\nimport seaborn as sns\\nfrom pathlib import Path\\nfrom sklearn.ensemble import GradientBoostingRegressor\\nimport statistics\\nimport sklearn\\nfrom sklearn.ensemble import GradientBoostingClassifier\\nimport re\\nfrom sklearn import svm'); }\n",
       "    "
      ],
      "text/plain": [
       "<IPython.core.display.Javascript object>"
      ]
     },
     "metadata": {},
     "output_type": "display_data"
    },
    {
     "data": {
      "application/javascript": [
       "\n",
       "        if (window._pyforest_update_imports_cell) { window._pyforest_update_imports_cell('from sklearn.preprocessing import OneHotEncoder\\nimport sys\\nfrom sklearn.ensemble import RandomForestClassifier\\nfrom sklearn.ensemble import RandomForestRegressor\\nimport nltk\\nimport seaborn as sns\\nfrom pathlib import Path\\nfrom sklearn.ensemble import GradientBoostingRegressor\\nimport statistics\\nimport sklearn\\nfrom sklearn.ensemble import GradientBoostingClassifier\\nimport re\\nfrom sklearn import svm'); }\n",
       "    "
      ],
      "text/plain": [
       "<IPython.core.display.Javascript object>"
      ]
     },
     "metadata": {},
     "output_type": "display_data"
    },
    {
     "data": {
      "application/javascript": [
       "\n",
       "        if (window._pyforest_update_imports_cell) { window._pyforest_update_imports_cell('from sklearn.preprocessing import OneHotEncoder\\nimport sys\\nfrom sklearn.ensemble import RandomForestClassifier\\nfrom sklearn.ensemble import RandomForestRegressor\\nimport nltk\\nimport seaborn as sns\\nfrom pathlib import Path\\nfrom sklearn.ensemble import GradientBoostingRegressor\\nimport statistics\\nimport sklearn\\nfrom sklearn.ensemble import GradientBoostingClassifier\\nimport re\\nfrom sklearn import svm'); }\n",
       "    "
      ],
      "text/plain": [
       "<IPython.core.display.Javascript object>"
      ]
     },
     "metadata": {},
     "output_type": "display_data"
    },
    {
     "data": {
      "application/javascript": [
       "\n",
       "        if (window._pyforest_update_imports_cell) { window._pyforest_update_imports_cell('from sklearn.preprocessing import OneHotEncoder\\nimport sys\\nfrom sklearn.ensemble import RandomForestClassifier\\nfrom sklearn.ensemble import RandomForestRegressor\\nimport nltk\\nimport seaborn as sns\\nfrom pathlib import Path\\nfrom sklearn.ensemble import GradientBoostingRegressor\\nimport statistics\\nimport sklearn\\nfrom sklearn.ensemble import GradientBoostingClassifier\\nimport re\\nfrom sklearn import svm'); }\n",
       "    "
      ],
      "text/plain": [
       "<IPython.core.display.Javascript object>"
      ]
     },
     "metadata": {},
     "output_type": "display_data"
    },
    {
     "data": {
      "application/javascript": [
       "\n",
       "        if (window._pyforest_update_imports_cell) { window._pyforest_update_imports_cell('from sklearn.preprocessing import OneHotEncoder\\nimport sys\\nfrom sklearn.ensemble import RandomForestClassifier\\nfrom sklearn.ensemble import RandomForestRegressor\\nimport nltk\\nimport seaborn as sns\\nfrom pathlib import Path\\nfrom sklearn.ensemble import GradientBoostingRegressor\\nimport statistics\\nimport sklearn\\nfrom sklearn.ensemble import GradientBoostingClassifier\\nimport re\\nfrom sklearn import svm'); }\n",
       "    "
      ],
      "text/plain": [
       "<IPython.core.display.Javascript object>"
      ]
     },
     "metadata": {},
     "output_type": "display_data"
    },
    {
     "data": {
      "application/javascript": [
       "\n",
       "        if (window._pyforest_update_imports_cell) { window._pyforest_update_imports_cell('from sklearn.preprocessing import OneHotEncoder\\nimport sys\\nfrom sklearn.ensemble import RandomForestClassifier\\nfrom sklearn.ensemble import RandomForestRegressor\\nimport nltk\\nimport seaborn as sns\\nfrom pathlib import Path\\nfrom sklearn.ensemble import GradientBoostingRegressor\\nimport statistics\\nimport sklearn\\nfrom sklearn.ensemble import GradientBoostingClassifier\\nimport re\\nfrom sklearn import svm'); }\n",
       "    "
      ],
      "text/plain": [
       "<IPython.core.display.Javascript object>"
      ]
     },
     "metadata": {},
     "output_type": "display_data"
    },
    {
     "data": {
      "application/javascript": [
       "\n",
       "        if (window._pyforest_update_imports_cell) { window._pyforest_update_imports_cell('from sklearn.preprocessing import OneHotEncoder\\nimport sys\\nfrom sklearn.ensemble import RandomForestClassifier\\nfrom sklearn.ensemble import RandomForestRegressor\\nimport nltk\\nimport seaborn as sns\\nfrom pathlib import Path\\nfrom sklearn.ensemble import GradientBoostingRegressor\\nimport statistics\\nimport sklearn\\nfrom sklearn.ensemble import GradientBoostingClassifier\\nimport re\\nfrom sklearn import svm'); }\n",
       "    "
      ],
      "text/plain": [
       "<IPython.core.display.Javascript object>"
      ]
     },
     "metadata": {},
     "output_type": "display_data"
    },
    {
     "data": {
      "application/javascript": [
       "\n",
       "        if (window._pyforest_update_imports_cell) { window._pyforest_update_imports_cell('from sklearn.preprocessing import OneHotEncoder\\nimport sys\\nfrom sklearn.ensemble import RandomForestClassifier\\nfrom sklearn.ensemble import RandomForestRegressor\\nimport nltk\\nimport seaborn as sns\\nfrom pathlib import Path\\nfrom sklearn.ensemble import GradientBoostingRegressor\\nimport statistics\\nimport sklearn\\nfrom sklearn.ensemble import GradientBoostingClassifier\\nimport re\\nfrom sklearn import svm'); }\n",
       "    "
      ],
      "text/plain": [
       "<IPython.core.display.Javascript object>"
      ]
     },
     "metadata": {},
     "output_type": "display_data"
    },
    {
     "data": {
      "application/javascript": [
       "\n",
       "        if (window._pyforest_update_imports_cell) { window._pyforest_update_imports_cell('from sklearn.preprocessing import OneHotEncoder\\nimport sys\\nfrom sklearn.ensemble import RandomForestClassifier\\nfrom sklearn.ensemble import RandomForestRegressor\\nimport nltk\\nimport seaborn as sns\\nfrom pathlib import Path\\nfrom sklearn.ensemble import GradientBoostingRegressor\\nimport statistics\\nimport sklearn\\nfrom sklearn.ensemble import GradientBoostingClassifier\\nimport re\\nfrom sklearn import svm'); }\n",
       "    "
      ],
      "text/plain": [
       "<IPython.core.display.Javascript object>"
      ]
     },
     "metadata": {},
     "output_type": "display_data"
    },
    {
     "data": {
      "application/javascript": [
       "\n",
       "        if (window._pyforest_update_imports_cell) { window._pyforest_update_imports_cell('from sklearn.preprocessing import OneHotEncoder\\nimport sys\\nfrom sklearn.ensemble import RandomForestClassifier\\nfrom sklearn.ensemble import RandomForestRegressor\\nimport nltk\\nimport seaborn as sns\\nfrom pathlib import Path\\nfrom sklearn.ensemble import GradientBoostingRegressor\\nimport statistics\\nimport sklearn\\nfrom sklearn.ensemble import GradientBoostingClassifier\\nimport re\\nfrom sklearn import svm'); }\n",
       "    "
      ],
      "text/plain": [
       "<IPython.core.display.Javascript object>"
      ]
     },
     "metadata": {},
     "output_type": "display_data"
    },
    {
     "data": {
      "application/javascript": [
       "\n",
       "        if (window._pyforest_update_imports_cell) { window._pyforest_update_imports_cell('from sklearn.preprocessing import OneHotEncoder\\nimport sys\\nfrom sklearn.ensemble import RandomForestClassifier\\nfrom sklearn.ensemble import RandomForestRegressor\\nimport nltk\\nimport seaborn as sns\\nfrom pathlib import Path\\nfrom sklearn.ensemble import GradientBoostingRegressor\\nimport statistics\\nimport sklearn\\nfrom sklearn.ensemble import GradientBoostingClassifier\\nimport re\\nfrom sklearn import svm'); }\n",
       "    "
      ],
      "text/plain": [
       "<IPython.core.display.Javascript object>"
      ]
     },
     "metadata": {},
     "output_type": "display_data"
    },
    {
     "data": {
      "application/javascript": [
       "\n",
       "        if (window._pyforest_update_imports_cell) { window._pyforest_update_imports_cell('from sklearn.preprocessing import OneHotEncoder\\nimport sys\\nfrom sklearn.ensemble import RandomForestClassifier\\nfrom sklearn.ensemble import RandomForestRegressor\\nimport nltk\\nimport seaborn as sns\\nfrom pathlib import Path\\nfrom sklearn.ensemble import GradientBoostingRegressor\\nimport statistics\\nimport sklearn\\nfrom sklearn.ensemble import GradientBoostingClassifier\\nimport re\\nfrom sklearn import svm'); }\n",
       "    "
      ],
      "text/plain": [
       "<IPython.core.display.Javascript object>"
      ]
     },
     "metadata": {},
     "output_type": "display_data"
    },
    {
     "data": {
      "application/javascript": [
       "\n",
       "        if (window._pyforest_update_imports_cell) { window._pyforest_update_imports_cell('from sklearn.preprocessing import OneHotEncoder\\nimport sys\\nfrom sklearn.ensemble import RandomForestClassifier\\nfrom sklearn.ensemble import RandomForestRegressor\\nimport nltk\\nimport seaborn as sns\\nfrom pathlib import Path\\nfrom sklearn.ensemble import GradientBoostingRegressor\\nimport statistics\\nimport sklearn\\nfrom sklearn.ensemble import GradientBoostingClassifier\\nimport re\\nfrom sklearn import svm'); }\n",
       "    "
      ],
      "text/plain": [
       "<IPython.core.display.Javascript object>"
      ]
     },
     "metadata": {},
     "output_type": "display_data"
    },
    {
     "data": {
      "application/javascript": [
       "\n",
       "        if (window._pyforest_update_imports_cell) { window._pyforest_update_imports_cell('from sklearn.preprocessing import OneHotEncoder\\nimport sys\\nfrom sklearn.ensemble import RandomForestClassifier\\nfrom sklearn.ensemble import RandomForestRegressor\\nimport nltk\\nimport seaborn as sns\\nfrom pathlib import Path\\nfrom sklearn.ensemble import GradientBoostingRegressor\\nimport statistics\\nimport sklearn\\nfrom sklearn.ensemble import GradientBoostingClassifier\\nimport re\\nfrom sklearn import svm'); }\n",
       "    "
      ],
      "text/plain": [
       "<IPython.core.display.Javascript object>"
      ]
     },
     "metadata": {},
     "output_type": "display_data"
    },
    {
     "data": {
      "application/javascript": [
       "\n",
       "        if (window._pyforest_update_imports_cell) { window._pyforest_update_imports_cell('from sklearn.preprocessing import OneHotEncoder\\nimport sys\\nfrom sklearn.ensemble import RandomForestClassifier\\nfrom sklearn.ensemble import RandomForestRegressor\\nimport nltk\\nimport seaborn as sns\\nfrom pathlib import Path\\nfrom sklearn.ensemble import GradientBoostingRegressor\\nimport statistics\\nimport sklearn\\nfrom sklearn.ensemble import GradientBoostingClassifier\\nimport re\\nfrom sklearn import svm'); }\n",
       "    "
      ],
      "text/plain": [
       "<IPython.core.display.Javascript object>"
      ]
     },
     "metadata": {},
     "output_type": "display_data"
    },
    {
     "data": {
      "application/javascript": [
       "\n",
       "        if (window._pyforest_update_imports_cell) { window._pyforest_update_imports_cell('from sklearn.preprocessing import OneHotEncoder\\nimport sys\\nfrom sklearn.ensemble import RandomForestClassifier\\nfrom sklearn.ensemble import RandomForestRegressor\\nimport nltk\\nimport seaborn as sns\\nfrom pathlib import Path\\nfrom sklearn.ensemble import GradientBoostingRegressor\\nimport statistics\\nimport sklearn\\nfrom sklearn.ensemble import GradientBoostingClassifier\\nimport re\\nfrom sklearn import svm'); }\n",
       "    "
      ],
      "text/plain": [
       "<IPython.core.display.Javascript object>"
      ]
     },
     "metadata": {},
     "output_type": "display_data"
    },
    {
     "data": {
      "application/javascript": [
       "\n",
       "        if (window._pyforest_update_imports_cell) { window._pyforest_update_imports_cell('from sklearn.preprocessing import OneHotEncoder\\nimport sys\\nfrom sklearn.ensemble import RandomForestClassifier\\nfrom sklearn.ensemble import RandomForestRegressor\\nimport nltk\\nimport seaborn as sns\\nfrom pathlib import Path\\nfrom sklearn.ensemble import GradientBoostingRegressor\\nimport statistics\\nimport sklearn\\nfrom sklearn.ensemble import GradientBoostingClassifier\\nimport re\\nfrom sklearn import svm'); }\n",
       "    "
      ],
      "text/plain": [
       "<IPython.core.display.Javascript object>"
      ]
     },
     "metadata": {},
     "output_type": "display_data"
    },
    {
     "data": {
      "application/javascript": [
       "\n",
       "        if (window._pyforest_update_imports_cell) { window._pyforest_update_imports_cell('from sklearn.preprocessing import OneHotEncoder\\nimport sys\\nfrom sklearn.ensemble import RandomForestClassifier\\nfrom sklearn.ensemble import RandomForestRegressor\\nimport nltk\\nimport seaborn as sns\\nfrom pathlib import Path\\nfrom sklearn.ensemble import GradientBoostingRegressor\\nimport statistics\\nimport sklearn\\nfrom sklearn.ensemble import GradientBoostingClassifier\\nimport re\\nfrom sklearn import svm'); }\n",
       "    "
      ],
      "text/plain": [
       "<IPython.core.display.Javascript object>"
      ]
     },
     "metadata": {},
     "output_type": "display_data"
    },
    {
     "data": {
      "application/javascript": [
       "\n",
       "        if (window._pyforest_update_imports_cell) { window._pyforest_update_imports_cell('from sklearn.preprocessing import OneHotEncoder\\nimport sys\\nfrom sklearn.ensemble import RandomForestClassifier\\nfrom sklearn.ensemble import RandomForestRegressor\\nimport nltk\\nimport seaborn as sns\\nfrom pathlib import Path\\nfrom sklearn.ensemble import GradientBoostingRegressor\\nimport statistics\\nimport sklearn\\nfrom sklearn.ensemble import GradientBoostingClassifier\\nimport re\\nfrom sklearn import svm'); }\n",
       "    "
      ],
      "text/plain": [
       "<IPython.core.display.Javascript object>"
      ]
     },
     "metadata": {},
     "output_type": "display_data"
    },
    {
     "data": {
      "application/javascript": [
       "\n",
       "        if (window._pyforest_update_imports_cell) { window._pyforest_update_imports_cell('from sklearn.preprocessing import OneHotEncoder\\nimport sys\\nfrom sklearn.ensemble import RandomForestClassifier\\nfrom sklearn.ensemble import RandomForestRegressor\\nimport nltk\\nimport seaborn as sns\\nfrom pathlib import Path\\nfrom sklearn.ensemble import GradientBoostingRegressor\\nimport statistics\\nimport sklearn\\nfrom sklearn.ensemble import GradientBoostingClassifier\\nimport re\\nfrom sklearn import svm'); }\n",
       "    "
      ],
      "text/plain": [
       "<IPython.core.display.Javascript object>"
      ]
     },
     "metadata": {},
     "output_type": "display_data"
    },
    {
     "data": {
      "application/javascript": [
       "\n",
       "        if (window._pyforest_update_imports_cell) { window._pyforest_update_imports_cell('from sklearn.preprocessing import OneHotEncoder\\nimport sys\\nfrom sklearn.ensemble import RandomForestClassifier\\nfrom sklearn.ensemble import RandomForestRegressor\\nimport nltk\\nimport seaborn as sns\\nfrom pathlib import Path\\nfrom sklearn.ensemble import GradientBoostingRegressor\\nimport statistics\\nimport sklearn\\nfrom sklearn.ensemble import GradientBoostingClassifier\\nimport re\\nfrom sklearn import svm'); }\n",
       "    "
      ],
      "text/plain": [
       "<IPython.core.display.Javascript object>"
      ]
     },
     "metadata": {},
     "output_type": "display_data"
    },
    {
     "data": {
      "application/javascript": [
       "\n",
       "        if (window._pyforest_update_imports_cell) { window._pyforest_update_imports_cell('from sklearn.preprocessing import OneHotEncoder\\nimport sys\\nfrom sklearn.ensemble import RandomForestClassifier\\nfrom sklearn.ensemble import RandomForestRegressor\\nimport nltk\\nimport seaborn as sns\\nfrom pathlib import Path\\nfrom sklearn.ensemble import GradientBoostingRegressor\\nimport statistics\\nimport sklearn\\nfrom sklearn.ensemble import GradientBoostingClassifier\\nimport re\\nfrom sklearn import svm'); }\n",
       "    "
      ],
      "text/plain": [
       "<IPython.core.display.Javascript object>"
      ]
     },
     "metadata": {},
     "output_type": "display_data"
    },
    {
     "data": {
      "application/javascript": [
       "\n",
       "        if (window._pyforest_update_imports_cell) { window._pyforest_update_imports_cell('from sklearn.preprocessing import OneHotEncoder\\nimport sys\\nfrom sklearn.ensemble import RandomForestClassifier\\nfrom sklearn.ensemble import RandomForestRegressor\\nimport nltk\\nimport seaborn as sns\\nfrom pathlib import Path\\nfrom sklearn.ensemble import GradientBoostingRegressor\\nimport statistics\\nimport sklearn\\nfrom sklearn.ensemble import GradientBoostingClassifier\\nimport re\\nfrom sklearn import svm'); }\n",
       "    "
      ],
      "text/plain": [
       "<IPython.core.display.Javascript object>"
      ]
     },
     "metadata": {},
     "output_type": "display_data"
    },
    {
     "data": {
      "application/javascript": [
       "\n",
       "        if (window._pyforest_update_imports_cell) { window._pyforest_update_imports_cell('from sklearn.preprocessing import OneHotEncoder\\nimport sys\\nfrom sklearn.ensemble import RandomForestClassifier\\nfrom sklearn.ensemble import RandomForestRegressor\\nimport nltk\\nimport seaborn as sns\\nfrom pathlib import Path\\nfrom sklearn.ensemble import GradientBoostingRegressor\\nimport statistics\\nimport sklearn\\nfrom sklearn.ensemble import GradientBoostingClassifier\\nimport re\\nfrom sklearn import svm'); }\n",
       "    "
      ],
      "text/plain": [
       "<IPython.core.display.Javascript object>"
      ]
     },
     "metadata": {},
     "output_type": "display_data"
    },
    {
     "data": {
      "application/javascript": [
       "\n",
       "        if (window._pyforest_update_imports_cell) { window._pyforest_update_imports_cell('from sklearn.preprocessing import OneHotEncoder\\nimport sys\\nfrom sklearn.ensemble import RandomForestClassifier\\nfrom sklearn.ensemble import RandomForestRegressor\\nimport nltk\\nimport seaborn as sns\\nfrom pathlib import Path\\nfrom sklearn.ensemble import GradientBoostingRegressor\\nimport statistics\\nimport sklearn\\nfrom sklearn.ensemble import GradientBoostingClassifier\\nimport re\\nfrom sklearn import svm'); }\n",
       "    "
      ],
      "text/plain": [
       "<IPython.core.display.Javascript object>"
      ]
     },
     "metadata": {},
     "output_type": "display_data"
    },
    {
     "data": {
      "application/javascript": [
       "\n",
       "        if (window._pyforest_update_imports_cell) { window._pyforest_update_imports_cell('from sklearn.preprocessing import OneHotEncoder\\nimport sys\\nfrom sklearn.ensemble import RandomForestClassifier\\nfrom sklearn.ensemble import RandomForestRegressor\\nimport nltk\\nimport seaborn as sns\\nfrom pathlib import Path\\nfrom sklearn.ensemble import GradientBoostingRegressor\\nimport statistics\\nimport sklearn\\nfrom sklearn.ensemble import GradientBoostingClassifier\\nimport re\\nfrom sklearn import svm'); }\n",
       "    "
      ],
      "text/plain": [
       "<IPython.core.display.Javascript object>"
      ]
     },
     "metadata": {},
     "output_type": "display_data"
    },
    {
     "data": {
      "application/javascript": [
       "\n",
       "        if (window._pyforest_update_imports_cell) { window._pyforest_update_imports_cell('from sklearn.preprocessing import OneHotEncoder\\nimport sys\\nfrom sklearn.ensemble import RandomForestClassifier\\nfrom sklearn.ensemble import RandomForestRegressor\\nimport nltk\\nimport seaborn as sns\\nfrom pathlib import Path\\nfrom sklearn.ensemble import GradientBoostingRegressor\\nimport statistics\\nimport sklearn\\nfrom sklearn.ensemble import GradientBoostingClassifier\\nimport re\\nfrom sklearn import svm'); }\n",
       "    "
      ],
      "text/plain": [
       "<IPython.core.display.Javascript object>"
      ]
     },
     "metadata": {},
     "output_type": "display_data"
    },
    {
     "data": {
      "application/javascript": [
       "\n",
       "        if (window._pyforest_update_imports_cell) { window._pyforest_update_imports_cell('from sklearn.preprocessing import OneHotEncoder\\nimport sys\\nfrom sklearn.ensemble import RandomForestClassifier\\nfrom sklearn.ensemble import RandomForestRegressor\\nimport nltk\\nimport seaborn as sns\\nfrom pathlib import Path\\nfrom sklearn.ensemble import GradientBoostingRegressor\\nimport statistics\\nimport sklearn\\nfrom sklearn.ensemble import GradientBoostingClassifier\\nimport re\\nfrom sklearn import svm'); }\n",
       "    "
      ],
      "text/plain": [
       "<IPython.core.display.Javascript object>"
      ]
     },
     "metadata": {},
     "output_type": "display_data"
    },
    {
     "data": {
      "application/javascript": [
       "\n",
       "        if (window._pyforest_update_imports_cell) { window._pyforest_update_imports_cell('from sklearn.preprocessing import OneHotEncoder\\nimport sys\\nfrom sklearn.ensemble import RandomForestClassifier\\nfrom sklearn.ensemble import RandomForestRegressor\\nimport nltk\\nimport seaborn as sns\\nfrom pathlib import Path\\nfrom sklearn.ensemble import GradientBoostingRegressor\\nimport statistics\\nimport sklearn\\nfrom sklearn.ensemble import GradientBoostingClassifier\\nimport re\\nfrom sklearn import svm'); }\n",
       "    "
      ],
      "text/plain": [
       "<IPython.core.display.Javascript object>"
      ]
     },
     "metadata": {},
     "output_type": "display_data"
    },
    {
     "data": {
      "application/javascript": [
       "\n",
       "        if (window._pyforest_update_imports_cell) { window._pyforest_update_imports_cell('from sklearn.preprocessing import OneHotEncoder\\nimport sys\\nfrom sklearn.ensemble import RandomForestClassifier\\nfrom sklearn.ensemble import RandomForestRegressor\\nimport nltk\\nimport seaborn as sns\\nfrom pathlib import Path\\nfrom sklearn.ensemble import GradientBoostingRegressor\\nimport statistics\\nimport sklearn\\nfrom sklearn.ensemble import GradientBoostingClassifier\\nimport re\\nfrom sklearn import svm'); }\n",
       "    "
      ],
      "text/plain": [
       "<IPython.core.display.Javascript object>"
      ]
     },
     "metadata": {},
     "output_type": "display_data"
    },
    {
     "data": {
      "application/javascript": [
       "\n",
       "        if (window._pyforest_update_imports_cell) { window._pyforest_update_imports_cell('from sklearn.preprocessing import OneHotEncoder\\nimport sys\\nfrom sklearn.ensemble import RandomForestClassifier\\nfrom sklearn.ensemble import RandomForestRegressor\\nimport nltk\\nimport seaborn as sns\\nfrom pathlib import Path\\nfrom sklearn.ensemble import GradientBoostingRegressor\\nimport statistics\\nimport sklearn\\nfrom sklearn.ensemble import GradientBoostingClassifier\\nimport re\\nfrom sklearn import svm'); }\n",
       "    "
      ],
      "text/plain": [
       "<IPython.core.display.Javascript object>"
      ]
     },
     "metadata": {},
     "output_type": "display_data"
    },
    {
     "data": {
      "application/javascript": [
       "\n",
       "        if (window._pyforest_update_imports_cell) { window._pyforest_update_imports_cell('from sklearn.preprocessing import OneHotEncoder\\nimport sys\\nfrom sklearn.ensemble import RandomForestClassifier\\nfrom sklearn.ensemble import RandomForestRegressor\\nimport nltk\\nimport seaborn as sns\\nfrom pathlib import Path\\nfrom sklearn.ensemble import GradientBoostingRegressor\\nimport statistics\\nimport sklearn\\nfrom sklearn.ensemble import GradientBoostingClassifier\\nimport re\\nfrom sklearn import svm'); }\n",
       "    "
      ],
      "text/plain": [
       "<IPython.core.display.Javascript object>"
      ]
     },
     "metadata": {},
     "output_type": "display_data"
    },
    {
     "data": {
      "application/javascript": [
       "\n",
       "        if (window._pyforest_update_imports_cell) { window._pyforest_update_imports_cell('from sklearn.preprocessing import OneHotEncoder\\nimport sys\\nfrom sklearn.ensemble import RandomForestClassifier\\nfrom sklearn.ensemble import RandomForestRegressor\\nimport nltk\\nimport seaborn as sns\\nfrom pathlib import Path\\nfrom sklearn.ensemble import GradientBoostingRegressor\\nimport statistics\\nimport sklearn\\nfrom sklearn.ensemble import GradientBoostingClassifier\\nimport re\\nfrom sklearn import svm'); }\n",
       "    "
      ],
      "text/plain": [
       "<IPython.core.display.Javascript object>"
      ]
     },
     "metadata": {},
     "output_type": "display_data"
    },
    {
     "data": {
      "application/javascript": [
       "\n",
       "        if (window._pyforest_update_imports_cell) { window._pyforest_update_imports_cell('from sklearn.preprocessing import OneHotEncoder\\nimport sys\\nfrom sklearn.ensemble import RandomForestClassifier\\nfrom sklearn.ensemble import RandomForestRegressor\\nimport nltk\\nimport seaborn as sns\\nfrom pathlib import Path\\nfrom sklearn.ensemble import GradientBoostingRegressor\\nimport statistics\\nimport sklearn\\nfrom sklearn.ensemble import GradientBoostingClassifier\\nimport re\\nfrom sklearn import svm'); }\n",
       "    "
      ],
      "text/plain": [
       "<IPython.core.display.Javascript object>"
      ]
     },
     "metadata": {},
     "output_type": "display_data"
    },
    {
     "data": {
      "application/javascript": [
       "\n",
       "        if (window._pyforest_update_imports_cell) { window._pyforest_update_imports_cell('from sklearn.preprocessing import OneHotEncoder\\nimport sys\\nfrom sklearn.ensemble import RandomForestClassifier\\nfrom sklearn.ensemble import RandomForestRegressor\\nimport nltk\\nimport seaborn as sns\\nfrom pathlib import Path\\nfrom sklearn.ensemble import GradientBoostingRegressor\\nimport statistics\\nimport sklearn\\nfrom sklearn.ensemble import GradientBoostingClassifier\\nimport re\\nfrom sklearn import svm'); }\n",
       "    "
      ],
      "text/plain": [
       "<IPython.core.display.Javascript object>"
      ]
     },
     "metadata": {},
     "output_type": "display_data"
    },
    {
     "data": {
      "application/javascript": [
       "\n",
       "        if (window._pyforest_update_imports_cell) { window._pyforest_update_imports_cell('from sklearn.preprocessing import OneHotEncoder\\nimport sys\\nfrom sklearn.ensemble import RandomForestClassifier\\nfrom sklearn.ensemble import RandomForestRegressor\\nimport nltk\\nimport seaborn as sns\\nfrom pathlib import Path\\nfrom sklearn.ensemble import GradientBoostingRegressor\\nimport statistics\\nimport sklearn\\nfrom sklearn.ensemble import GradientBoostingClassifier\\nimport re\\nfrom sklearn import svm'); }\n",
       "    "
      ],
      "text/plain": [
       "<IPython.core.display.Javascript object>"
      ]
     },
     "metadata": {},
     "output_type": "display_data"
    },
    {
     "data": {
      "application/javascript": [
       "\n",
       "        if (window._pyforest_update_imports_cell) { window._pyforest_update_imports_cell('from sklearn.preprocessing import OneHotEncoder\\nimport sys\\nfrom sklearn.ensemble import RandomForestClassifier\\nfrom sklearn.ensemble import RandomForestRegressor\\nimport nltk\\nimport seaborn as sns\\nfrom pathlib import Path\\nfrom sklearn.ensemble import GradientBoostingRegressor\\nimport statistics\\nimport sklearn\\nfrom sklearn.ensemble import GradientBoostingClassifier\\nimport re\\nfrom sklearn import svm'); }\n",
       "    "
      ],
      "text/plain": [
       "<IPython.core.display.Javascript object>"
      ]
     },
     "metadata": {},
     "output_type": "display_data"
    },
    {
     "data": {
      "application/javascript": [
       "\n",
       "        if (window._pyforest_update_imports_cell) { window._pyforest_update_imports_cell('from sklearn.preprocessing import OneHotEncoder\\nimport sys\\nfrom sklearn.ensemble import RandomForestClassifier\\nfrom sklearn.ensemble import RandomForestRegressor\\nimport nltk\\nimport seaborn as sns\\nfrom pathlib import Path\\nfrom sklearn.ensemble import GradientBoostingRegressor\\nimport statistics\\nimport sklearn\\nfrom sklearn.ensemble import GradientBoostingClassifier\\nimport re\\nfrom sklearn import svm'); }\n",
       "    "
      ],
      "text/plain": [
       "<IPython.core.display.Javascript object>"
      ]
     },
     "metadata": {},
     "output_type": "display_data"
    },
    {
     "data": {
      "application/javascript": [
       "\n",
       "        if (window._pyforest_update_imports_cell) { window._pyforest_update_imports_cell('from sklearn.preprocessing import OneHotEncoder\\nimport sys\\nfrom sklearn.ensemble import RandomForestClassifier\\nfrom sklearn.ensemble import RandomForestRegressor\\nimport nltk\\nimport seaborn as sns\\nfrom pathlib import Path\\nfrom sklearn.ensemble import GradientBoostingRegressor\\nimport statistics\\nimport sklearn\\nfrom sklearn.ensemble import GradientBoostingClassifier\\nimport re\\nfrom sklearn import svm'); }\n",
       "    "
      ],
      "text/plain": [
       "<IPython.core.display.Javascript object>"
      ]
     },
     "metadata": {},
     "output_type": "display_data"
    },
    {
     "data": {
      "application/javascript": [
       "\n",
       "        if (window._pyforest_update_imports_cell) { window._pyforest_update_imports_cell('from sklearn.preprocessing import OneHotEncoder\\nimport sys\\nfrom sklearn.ensemble import RandomForestClassifier\\nfrom sklearn.ensemble import RandomForestRegressor\\nimport nltk\\nimport seaborn as sns\\nfrom pathlib import Path\\nfrom sklearn.ensemble import GradientBoostingRegressor\\nimport statistics\\nimport sklearn\\nfrom sklearn.ensemble import GradientBoostingClassifier\\nimport re\\nfrom sklearn import svm'); }\n",
       "    "
      ],
      "text/plain": [
       "<IPython.core.display.Javascript object>"
      ]
     },
     "metadata": {},
     "output_type": "display_data"
    },
    {
     "data": {
      "application/javascript": [
       "\n",
       "        if (window._pyforest_update_imports_cell) { window._pyforest_update_imports_cell('from sklearn.preprocessing import OneHotEncoder\\nimport sys\\nfrom sklearn.ensemble import RandomForestClassifier\\nfrom sklearn.ensemble import RandomForestRegressor\\nimport nltk\\nimport seaborn as sns\\nfrom pathlib import Path\\nfrom sklearn.ensemble import GradientBoostingRegressor\\nimport statistics\\nimport sklearn\\nfrom sklearn.ensemble import GradientBoostingClassifier\\nimport re\\nfrom sklearn import svm'); }\n",
       "    "
      ],
      "text/plain": [
       "<IPython.core.display.Javascript object>"
      ]
     },
     "metadata": {},
     "output_type": "display_data"
    },
    {
     "data": {
      "application/javascript": [
       "\n",
       "        if (window._pyforest_update_imports_cell) { window._pyforest_update_imports_cell('from sklearn.preprocessing import OneHotEncoder\\nimport sys\\nfrom sklearn.ensemble import RandomForestClassifier\\nfrom sklearn.ensemble import RandomForestRegressor\\nimport nltk\\nimport seaborn as sns\\nfrom pathlib import Path\\nfrom sklearn.ensemble import GradientBoostingRegressor\\nimport statistics\\nimport sklearn\\nfrom sklearn.ensemble import GradientBoostingClassifier\\nimport re\\nfrom sklearn import svm'); }\n",
       "    "
      ],
      "text/plain": [
       "<IPython.core.display.Javascript object>"
      ]
     },
     "metadata": {},
     "output_type": "display_data"
    },
    {
     "data": {
      "application/javascript": [
       "\n",
       "        if (window._pyforest_update_imports_cell) { window._pyforest_update_imports_cell('from sklearn.preprocessing import OneHotEncoder\\nimport sys\\nfrom sklearn.ensemble import RandomForestClassifier\\nfrom sklearn.ensemble import RandomForestRegressor\\nimport nltk\\nimport seaborn as sns\\nfrom pathlib import Path\\nfrom sklearn.ensemble import GradientBoostingRegressor\\nimport statistics\\nimport sklearn\\nfrom sklearn.ensemble import GradientBoostingClassifier\\nimport re\\nfrom sklearn import svm'); }\n",
       "    "
      ],
      "text/plain": [
       "<IPython.core.display.Javascript object>"
      ]
     },
     "metadata": {},
     "output_type": "display_data"
    },
    {
     "data": {
      "application/javascript": [
       "\n",
       "        if (window._pyforest_update_imports_cell) { window._pyforest_update_imports_cell('from sklearn.preprocessing import OneHotEncoder\\nimport sys\\nfrom sklearn.ensemble import RandomForestClassifier\\nfrom sklearn.ensemble import RandomForestRegressor\\nimport nltk\\nimport seaborn as sns\\nfrom pathlib import Path\\nfrom sklearn.ensemble import GradientBoostingRegressor\\nimport statistics\\nimport sklearn\\nfrom sklearn.ensemble import GradientBoostingClassifier\\nimport re\\nfrom sklearn import svm'); }\n",
       "    "
      ],
      "text/plain": [
       "<IPython.core.display.Javascript object>"
      ]
     },
     "metadata": {},
     "output_type": "display_data"
    },
    {
     "data": {
      "application/javascript": [
       "\n",
       "        if (window._pyforest_update_imports_cell) { window._pyforest_update_imports_cell('from sklearn.preprocessing import OneHotEncoder\\nimport sys\\nfrom sklearn.ensemble import RandomForestClassifier\\nfrom sklearn.ensemble import RandomForestRegressor\\nimport nltk\\nimport seaborn as sns\\nfrom pathlib import Path\\nfrom sklearn.ensemble import GradientBoostingRegressor\\nimport statistics\\nimport sklearn\\nfrom sklearn.ensemble import GradientBoostingClassifier\\nimport re\\nfrom sklearn import svm'); }\n",
       "    "
      ],
      "text/plain": [
       "<IPython.core.display.Javascript object>"
      ]
     },
     "metadata": {},
     "output_type": "display_data"
    },
    {
     "data": {
      "application/javascript": [
       "\n",
       "        if (window._pyforest_update_imports_cell) { window._pyforest_update_imports_cell('from sklearn.preprocessing import OneHotEncoder\\nimport sys\\nfrom sklearn.ensemble import RandomForestClassifier\\nfrom sklearn.ensemble import RandomForestRegressor\\nimport nltk\\nimport seaborn as sns\\nfrom pathlib import Path\\nfrom sklearn.ensemble import GradientBoostingRegressor\\nimport statistics\\nimport sklearn\\nfrom sklearn.ensemble import GradientBoostingClassifier\\nimport re\\nfrom sklearn import svm'); }\n",
       "    "
      ],
      "text/plain": [
       "<IPython.core.display.Javascript object>"
      ]
     },
     "metadata": {},
     "output_type": "display_data"
    },
    {
     "data": {
      "application/javascript": [
       "\n",
       "        if (window._pyforest_update_imports_cell) { window._pyforest_update_imports_cell('from sklearn.preprocessing import OneHotEncoder\\nimport sys\\nfrom sklearn.ensemble import RandomForestClassifier\\nfrom sklearn.ensemble import RandomForestRegressor\\nimport nltk\\nimport seaborn as sns\\nfrom pathlib import Path\\nfrom sklearn.ensemble import GradientBoostingRegressor\\nimport statistics\\nimport sklearn\\nfrom sklearn.ensemble import GradientBoostingClassifier\\nimport re\\nfrom sklearn import svm'); }\n",
       "    "
      ],
      "text/plain": [
       "<IPython.core.display.Javascript object>"
      ]
     },
     "metadata": {},
     "output_type": "display_data"
    },
    {
     "data": {
      "application/javascript": [
       "\n",
       "        if (window._pyforest_update_imports_cell) { window._pyforest_update_imports_cell('from sklearn.preprocessing import OneHotEncoder\\nimport sys\\nfrom sklearn.ensemble import RandomForestClassifier\\nfrom sklearn.ensemble import RandomForestRegressor\\nimport nltk\\nimport seaborn as sns\\nfrom pathlib import Path\\nfrom sklearn.ensemble import GradientBoostingRegressor\\nimport statistics\\nimport sklearn\\nfrom sklearn.ensemble import GradientBoostingClassifier\\nimport re\\nfrom sklearn import svm'); }\n",
       "    "
      ],
      "text/plain": [
       "<IPython.core.display.Javascript object>"
      ]
     },
     "metadata": {},
     "output_type": "display_data"
    },
    {
     "data": {
      "application/javascript": [
       "\n",
       "        if (window._pyforest_update_imports_cell) { window._pyforest_update_imports_cell('from sklearn.preprocessing import OneHotEncoder\\nimport sys\\nfrom sklearn.ensemble import RandomForestClassifier\\nfrom sklearn.ensemble import RandomForestRegressor\\nimport nltk\\nimport seaborn as sns\\nfrom pathlib import Path\\nfrom sklearn.ensemble import GradientBoostingRegressor\\nimport statistics\\nimport sklearn\\nfrom sklearn.ensemble import GradientBoostingClassifier\\nimport re\\nfrom sklearn import svm'); }\n",
       "    "
      ],
      "text/plain": [
       "<IPython.core.display.Javascript object>"
      ]
     },
     "metadata": {},
     "output_type": "display_data"
    },
    {
     "data": {
      "application/javascript": [
       "\n",
       "        if (window._pyforest_update_imports_cell) { window._pyforest_update_imports_cell('from sklearn.preprocessing import OneHotEncoder\\nimport sys\\nfrom sklearn.ensemble import RandomForestClassifier\\nfrom sklearn.ensemble import RandomForestRegressor\\nimport nltk\\nimport seaborn as sns\\nfrom pathlib import Path\\nfrom sklearn.ensemble import GradientBoostingRegressor\\nimport statistics\\nimport sklearn\\nfrom sklearn.ensemble import GradientBoostingClassifier\\nimport re\\nfrom sklearn import svm'); }\n",
       "    "
      ],
      "text/plain": [
       "<IPython.core.display.Javascript object>"
      ]
     },
     "metadata": {},
     "output_type": "display_data"
    },
    {
     "data": {
      "application/javascript": [
       "\n",
       "        if (window._pyforest_update_imports_cell) { window._pyforest_update_imports_cell('from sklearn.preprocessing import OneHotEncoder\\nimport sys\\nfrom sklearn.ensemble import RandomForestClassifier\\nfrom sklearn.ensemble import RandomForestRegressor\\nimport nltk\\nimport seaborn as sns\\nfrom pathlib import Path\\nfrom sklearn.ensemble import GradientBoostingRegressor\\nimport statistics\\nimport sklearn\\nfrom sklearn.ensemble import GradientBoostingClassifier\\nimport re\\nfrom sklearn import svm'); }\n",
       "    "
      ],
      "text/plain": [
       "<IPython.core.display.Javascript object>"
      ]
     },
     "metadata": {},
     "output_type": "display_data"
    },
    {
     "data": {
      "application/javascript": [
       "\n",
       "        if (window._pyforest_update_imports_cell) { window._pyforest_update_imports_cell('from sklearn.preprocessing import OneHotEncoder\\nimport sys\\nfrom sklearn.ensemble import RandomForestClassifier\\nfrom sklearn.ensemble import RandomForestRegressor\\nimport nltk\\nimport seaborn as sns\\nfrom pathlib import Path\\nfrom sklearn.ensemble import GradientBoostingRegressor\\nimport statistics\\nimport sklearn\\nfrom sklearn.ensemble import GradientBoostingClassifier\\nimport re\\nfrom sklearn import svm'); }\n",
       "    "
      ],
      "text/plain": [
       "<IPython.core.display.Javascript object>"
      ]
     },
     "metadata": {},
     "output_type": "display_data"
    },
    {
     "data": {
      "application/javascript": [
       "\n",
       "        if (window._pyforest_update_imports_cell) { window._pyforest_update_imports_cell('from sklearn.preprocessing import OneHotEncoder\\nimport sys\\nfrom sklearn.ensemble import RandomForestClassifier\\nfrom sklearn.ensemble import RandomForestRegressor\\nimport nltk\\nimport seaborn as sns\\nfrom pathlib import Path\\nfrom sklearn.ensemble import GradientBoostingRegressor\\nimport statistics\\nimport sklearn\\nfrom sklearn.ensemble import GradientBoostingClassifier\\nimport re\\nfrom sklearn import svm'); }\n",
       "    "
      ],
      "text/plain": [
       "<IPython.core.display.Javascript object>"
      ]
     },
     "metadata": {},
     "output_type": "display_data"
    },
    {
     "data": {
      "application/javascript": [
       "\n",
       "        if (window._pyforest_update_imports_cell) { window._pyforest_update_imports_cell('from sklearn.preprocessing import OneHotEncoder\\nimport sys\\nfrom sklearn.ensemble import RandomForestClassifier\\nfrom sklearn.ensemble import RandomForestRegressor\\nimport nltk\\nimport seaborn as sns\\nfrom pathlib import Path\\nfrom sklearn.ensemble import GradientBoostingRegressor\\nimport statistics\\nimport sklearn\\nfrom sklearn.ensemble import GradientBoostingClassifier\\nimport re\\nfrom sklearn import svm'); }\n",
       "    "
      ],
      "text/plain": [
       "<IPython.core.display.Javascript object>"
      ]
     },
     "metadata": {},
     "output_type": "display_data"
    },
    {
     "data": {
      "application/javascript": [
       "\n",
       "        if (window._pyforest_update_imports_cell) { window._pyforest_update_imports_cell('from sklearn.preprocessing import OneHotEncoder\\nimport sys\\nfrom sklearn.ensemble import RandomForestClassifier\\nfrom sklearn.ensemble import RandomForestRegressor\\nimport nltk\\nimport seaborn as sns\\nfrom pathlib import Path\\nfrom sklearn.ensemble import GradientBoostingRegressor\\nimport statistics\\nimport sklearn\\nfrom sklearn.ensemble import GradientBoostingClassifier\\nimport re\\nfrom sklearn import svm'); }\n",
       "    "
      ],
      "text/plain": [
       "<IPython.core.display.Javascript object>"
      ]
     },
     "metadata": {},
     "output_type": "display_data"
    },
    {
     "data": {
      "application/javascript": [
       "\n",
       "        if (window._pyforest_update_imports_cell) { window._pyforest_update_imports_cell('from sklearn.preprocessing import OneHotEncoder\\nimport sys\\nfrom sklearn.ensemble import RandomForestClassifier\\nfrom sklearn.ensemble import RandomForestRegressor\\nimport nltk\\nimport seaborn as sns\\nfrom pathlib import Path\\nfrom sklearn.ensemble import GradientBoostingRegressor\\nimport statistics\\nimport sklearn\\nfrom sklearn.ensemble import GradientBoostingClassifier\\nimport re\\nfrom sklearn import svm'); }\n",
       "    "
      ],
      "text/plain": [
       "<IPython.core.display.Javascript object>"
      ]
     },
     "metadata": {},
     "output_type": "display_data"
    },
    {
     "data": {
      "application/javascript": [
       "\n",
       "        if (window._pyforest_update_imports_cell) { window._pyforest_update_imports_cell('from sklearn.preprocessing import OneHotEncoder\\nimport sys\\nfrom sklearn.ensemble import RandomForestClassifier\\nfrom sklearn.ensemble import RandomForestRegressor\\nimport nltk\\nimport seaborn as sns\\nfrom pathlib import Path\\nfrom sklearn.ensemble import GradientBoostingRegressor\\nimport statistics\\nimport sklearn\\nfrom sklearn.ensemble import GradientBoostingClassifier\\nimport re\\nfrom sklearn import svm'); }\n",
       "    "
      ],
      "text/plain": [
       "<IPython.core.display.Javascript object>"
      ]
     },
     "metadata": {},
     "output_type": "display_data"
    },
    {
     "data": {
      "application/javascript": [
       "\n",
       "        if (window._pyforest_update_imports_cell) { window._pyforest_update_imports_cell('from sklearn.preprocessing import OneHotEncoder\\nimport sys\\nfrom sklearn.ensemble import RandomForestClassifier\\nfrom sklearn.ensemble import RandomForestRegressor\\nimport nltk\\nimport seaborn as sns\\nfrom pathlib import Path\\nfrom sklearn.ensemble import GradientBoostingRegressor\\nimport statistics\\nimport sklearn\\nfrom sklearn.ensemble import GradientBoostingClassifier\\nimport re\\nfrom sklearn import svm'); }\n",
       "    "
      ],
      "text/plain": [
       "<IPython.core.display.Javascript object>"
      ]
     },
     "metadata": {},
     "output_type": "display_data"
    },
    {
     "data": {
      "application/javascript": [
       "\n",
       "        if (window._pyforest_update_imports_cell) { window._pyforest_update_imports_cell('from sklearn.preprocessing import OneHotEncoder\\nimport sys\\nfrom sklearn.ensemble import RandomForestClassifier\\nfrom sklearn.ensemble import RandomForestRegressor\\nimport nltk\\nimport seaborn as sns\\nfrom pathlib import Path\\nfrom sklearn.ensemble import GradientBoostingRegressor\\nimport statistics\\nimport sklearn\\nfrom sklearn.ensemble import GradientBoostingClassifier\\nimport re\\nfrom sklearn import svm'); }\n",
       "    "
      ],
      "text/plain": [
       "<IPython.core.display.Javascript object>"
      ]
     },
     "metadata": {},
     "output_type": "display_data"
    },
    {
     "data": {
      "application/javascript": [
       "\n",
       "        if (window._pyforest_update_imports_cell) { window._pyforest_update_imports_cell('from sklearn.preprocessing import OneHotEncoder\\nimport sys\\nfrom sklearn.ensemble import RandomForestClassifier\\nfrom sklearn.ensemble import RandomForestRegressor\\nimport nltk\\nimport seaborn as sns\\nfrom pathlib import Path\\nfrom sklearn.ensemble import GradientBoostingRegressor\\nimport statistics\\nimport sklearn\\nfrom sklearn.ensemble import GradientBoostingClassifier\\nimport re\\nfrom sklearn import svm'); }\n",
       "    "
      ],
      "text/plain": [
       "<IPython.core.display.Javascript object>"
      ]
     },
     "metadata": {},
     "output_type": "display_data"
    },
    {
     "data": {
      "application/javascript": [
       "\n",
       "        if (window._pyforest_update_imports_cell) { window._pyforest_update_imports_cell('from sklearn.preprocessing import OneHotEncoder\\nimport sys\\nfrom sklearn.ensemble import RandomForestClassifier\\nfrom sklearn.ensemble import RandomForestRegressor\\nimport nltk\\nimport seaborn as sns\\nfrom pathlib import Path\\nfrom sklearn.ensemble import GradientBoostingRegressor\\nimport statistics\\nimport sklearn\\nfrom sklearn.ensemble import GradientBoostingClassifier\\nimport re\\nfrom sklearn import svm'); }\n",
       "    "
      ],
      "text/plain": [
       "<IPython.core.display.Javascript object>"
      ]
     },
     "metadata": {},
     "output_type": "display_data"
    },
    {
     "data": {
      "application/javascript": [
       "\n",
       "        if (window._pyforest_update_imports_cell) { window._pyforest_update_imports_cell('from sklearn.preprocessing import OneHotEncoder\\nimport sys\\nfrom sklearn.ensemble import RandomForestClassifier\\nfrom sklearn.ensemble import RandomForestRegressor\\nimport nltk\\nimport seaborn as sns\\nfrom pathlib import Path\\nfrom sklearn.ensemble import GradientBoostingRegressor\\nimport statistics\\nimport sklearn\\nfrom sklearn.ensemble import GradientBoostingClassifier\\nimport re\\nfrom sklearn import svm'); }\n",
       "    "
      ],
      "text/plain": [
       "<IPython.core.display.Javascript object>"
      ]
     },
     "metadata": {},
     "output_type": "display_data"
    },
    {
     "data": {
      "application/javascript": [
       "\n",
       "        if (window._pyforest_update_imports_cell) { window._pyforest_update_imports_cell('from sklearn.preprocessing import OneHotEncoder\\nimport sys\\nfrom sklearn.ensemble import RandomForestClassifier\\nfrom sklearn.ensemble import RandomForestRegressor\\nimport nltk\\nimport seaborn as sns\\nfrom pathlib import Path\\nfrom sklearn.ensemble import GradientBoostingRegressor\\nimport statistics\\nimport sklearn\\nfrom sklearn.ensemble import GradientBoostingClassifier\\nimport re\\nfrom sklearn import svm'); }\n",
       "    "
      ],
      "text/plain": [
       "<IPython.core.display.Javascript object>"
      ]
     },
     "metadata": {},
     "output_type": "display_data"
    },
    {
     "data": {
      "application/javascript": [
       "\n",
       "        if (window._pyforest_update_imports_cell) { window._pyforest_update_imports_cell('from sklearn.preprocessing import OneHotEncoder\\nimport sys\\nfrom sklearn.ensemble import RandomForestClassifier\\nfrom sklearn.ensemble import RandomForestRegressor\\nimport nltk\\nimport seaborn as sns\\nfrom pathlib import Path\\nfrom sklearn.ensemble import GradientBoostingRegressor\\nimport statistics\\nimport sklearn\\nfrom sklearn.ensemble import GradientBoostingClassifier\\nimport re\\nfrom sklearn import svm'); }\n",
       "    "
      ],
      "text/plain": [
       "<IPython.core.display.Javascript object>"
      ]
     },
     "metadata": {},
     "output_type": "display_data"
    },
    {
     "data": {
      "application/javascript": [
       "\n",
       "        if (window._pyforest_update_imports_cell) { window._pyforest_update_imports_cell('from sklearn.preprocessing import OneHotEncoder\\nimport sys\\nfrom sklearn.ensemble import RandomForestClassifier\\nfrom sklearn.ensemble import RandomForestRegressor\\nimport nltk\\nimport seaborn as sns\\nfrom pathlib import Path\\nfrom sklearn.ensemble import GradientBoostingRegressor\\nimport statistics\\nimport sklearn\\nfrom sklearn.ensemble import GradientBoostingClassifier\\nimport re\\nfrom sklearn import svm'); }\n",
       "    "
      ],
      "text/plain": [
       "<IPython.core.display.Javascript object>"
      ]
     },
     "metadata": {},
     "output_type": "display_data"
    },
    {
     "data": {
      "application/javascript": [
       "\n",
       "        if (window._pyforest_update_imports_cell) { window._pyforest_update_imports_cell('from sklearn.preprocessing import OneHotEncoder\\nimport sys\\nfrom sklearn.ensemble import RandomForestClassifier\\nfrom sklearn.ensemble import RandomForestRegressor\\nimport nltk\\nimport seaborn as sns\\nfrom pathlib import Path\\nfrom sklearn.ensemble import GradientBoostingRegressor\\nimport statistics\\nimport sklearn\\nfrom sklearn.ensemble import GradientBoostingClassifier\\nimport re\\nfrom sklearn import svm'); }\n",
       "    "
      ],
      "text/plain": [
       "<IPython.core.display.Javascript object>"
      ]
     },
     "metadata": {},
     "output_type": "display_data"
    },
    {
     "data": {
      "application/javascript": [
       "\n",
       "        if (window._pyforest_update_imports_cell) { window._pyforest_update_imports_cell('from sklearn.preprocessing import OneHotEncoder\\nimport sys\\nfrom sklearn.ensemble import RandomForestClassifier\\nfrom sklearn.ensemble import RandomForestRegressor\\nimport nltk\\nimport seaborn as sns\\nfrom pathlib import Path\\nfrom sklearn.ensemble import GradientBoostingRegressor\\nimport statistics\\nimport sklearn\\nfrom sklearn.ensemble import GradientBoostingClassifier\\nimport re\\nfrom sklearn import svm'); }\n",
       "    "
      ],
      "text/plain": [
       "<IPython.core.display.Javascript object>"
      ]
     },
     "metadata": {},
     "output_type": "display_data"
    },
    {
     "data": {
      "application/javascript": [
       "\n",
       "        if (window._pyforest_update_imports_cell) { window._pyforest_update_imports_cell('from sklearn.preprocessing import OneHotEncoder\\nimport sys\\nfrom sklearn.ensemble import RandomForestClassifier\\nfrom sklearn.ensemble import RandomForestRegressor\\nimport nltk\\nimport seaborn as sns\\nfrom pathlib import Path\\nfrom sklearn.ensemble import GradientBoostingRegressor\\nimport statistics\\nimport sklearn\\nfrom sklearn.ensemble import GradientBoostingClassifier\\nimport re\\nfrom sklearn import svm'); }\n",
       "    "
      ],
      "text/plain": [
       "<IPython.core.display.Javascript object>"
      ]
     },
     "metadata": {},
     "output_type": "display_data"
    },
    {
     "data": {
      "application/javascript": [
       "\n",
       "        if (window._pyforest_update_imports_cell) { window._pyforest_update_imports_cell('from sklearn.preprocessing import OneHotEncoder\\nimport sys\\nfrom sklearn.ensemble import RandomForestClassifier\\nfrom sklearn.ensemble import RandomForestRegressor\\nimport nltk\\nimport seaborn as sns\\nfrom pathlib import Path\\nfrom sklearn.ensemble import GradientBoostingRegressor\\nimport statistics\\nimport sklearn\\nfrom sklearn.ensemble import GradientBoostingClassifier\\nimport re\\nfrom sklearn import svm'); }\n",
       "    "
      ],
      "text/plain": [
       "<IPython.core.display.Javascript object>"
      ]
     },
     "metadata": {},
     "output_type": "display_data"
    },
    {
     "data": {
      "application/javascript": [
       "\n",
       "        if (window._pyforest_update_imports_cell) { window._pyforest_update_imports_cell('from sklearn.preprocessing import OneHotEncoder\\nimport sys\\nfrom sklearn.ensemble import RandomForestClassifier\\nfrom sklearn.ensemble import RandomForestRegressor\\nimport nltk\\nimport seaborn as sns\\nfrom pathlib import Path\\nfrom sklearn.ensemble import GradientBoostingRegressor\\nimport statistics\\nimport sklearn\\nfrom sklearn.ensemble import GradientBoostingClassifier\\nimport re\\nfrom sklearn import svm'); }\n",
       "    "
      ],
      "text/plain": [
       "<IPython.core.display.Javascript object>"
      ]
     },
     "metadata": {},
     "output_type": "display_data"
    },
    {
     "data": {
      "application/javascript": [
       "\n",
       "        if (window._pyforest_update_imports_cell) { window._pyforest_update_imports_cell('from sklearn.preprocessing import OneHotEncoder\\nimport sys\\nfrom sklearn.ensemble import RandomForestClassifier\\nfrom sklearn.ensemble import RandomForestRegressor\\nimport nltk\\nimport seaborn as sns\\nfrom pathlib import Path\\nfrom sklearn.ensemble import GradientBoostingRegressor\\nimport statistics\\nimport sklearn\\nfrom sklearn.ensemble import GradientBoostingClassifier\\nimport re\\nfrom sklearn import svm'); }\n",
       "    "
      ],
      "text/plain": [
       "<IPython.core.display.Javascript object>"
      ]
     },
     "metadata": {},
     "output_type": "display_data"
    },
    {
     "data": {
      "application/javascript": [
       "\n",
       "        if (window._pyforest_update_imports_cell) { window._pyforest_update_imports_cell('from sklearn.preprocessing import OneHotEncoder\\nimport sys\\nfrom sklearn.ensemble import RandomForestClassifier\\nfrom sklearn.ensemble import RandomForestRegressor\\nimport nltk\\nimport seaborn as sns\\nfrom pathlib import Path\\nfrom sklearn.ensemble import GradientBoostingRegressor\\nimport statistics\\nimport sklearn\\nfrom sklearn.ensemble import GradientBoostingClassifier\\nimport re\\nfrom sklearn import svm'); }\n",
       "    "
      ],
      "text/plain": [
       "<IPython.core.display.Javascript object>"
      ]
     },
     "metadata": {},
     "output_type": "display_data"
    },
    {
     "data": {
      "application/javascript": [
       "\n",
       "        if (window._pyforest_update_imports_cell) { window._pyforest_update_imports_cell('from sklearn.preprocessing import OneHotEncoder\\nimport sys\\nfrom sklearn.ensemble import RandomForestClassifier\\nfrom sklearn.ensemble import RandomForestRegressor\\nimport nltk\\nimport seaborn as sns\\nfrom pathlib import Path\\nfrom sklearn.ensemble import GradientBoostingRegressor\\nimport statistics\\nimport sklearn\\nfrom sklearn.ensemble import GradientBoostingClassifier\\nimport re\\nfrom sklearn import svm'); }\n",
       "    "
      ],
      "text/plain": [
       "<IPython.core.display.Javascript object>"
      ]
     },
     "metadata": {},
     "output_type": "display_data"
    }
   ],
   "source": [
    "sentence_scores = {}\n",
    "for sent in sentence_list:\n",
    "    for word in nltk.word_tokenize(sent.lower()):\n",
    "        if word in word_freq.keys():\n",
    "            if len(sent.split(' ')) < 30:\n",
    "                if sent not in sentence_scores.keys():\n",
    "                    sentence_scores[sent] = word_freq[word]\n",
    "                else:\n",
    "                    sentence_scores[sent] += word_freq[word]"
   ]
  },
  {
   "cell_type": "code",
   "execution_count": 81,
   "metadata": {},
   "outputs": [
    {
     "data": {
      "text/plain": [
       "{'Aviation is the activities surrounding mechanical flight and the aircraft industry.': 2.275,\n",
       " 'Aircraft includes fixed-wing and rotary-wing types, morphable wings, wing-less lifting bodies, as well as lighter-than-air craft such as hot air balloons and airships.': 1.9499999999999997,\n",
       " 'Aviation began in the 18th century with the development of the hot air balloon, an apparatus capable of atmospheric displacement through buoyancy.': 1.5999999999999996,\n",
       " 'Since that time, aviation has been technologically revolutionized by the introduction of the jet which permitted a major form of transport throughout the world.': 1.55,\n",
       " 'The word aviation was coined by the French writer and former naval officer Gabriel La Landelle in 1863.': 0.8000000000000002,\n",
       " 'He derived the term from the verb avier (an unsuccessful neologism for \"to fly\"), itself derived from the Latin word avis (\"bird\") and the suffix -ation.': 0.37500000000000006,\n",
       " 'The modern age of aviation began with the first untethered human lighter-than-air flight on November 21, 1783, of a hot air balloon designed by the Montgolfier brothers.': 2.15,\n",
       " 'The practicality of balloons was limited because they could only travel downwind.': 0.225,\n",
       " 'It was immediately recognized that a steerable, or dirigible, balloon was required.': 0.30000000000000004,\n",
       " 'Jean-Pierre Blanchard flew the first human-powered dirigible in 1784 and crossed the English Channel in one in 1785.': 0.15,\n",
       " 'Rigid airships became the first aircraft to transport passengers and cargo over great distances.': 1.475,\n",
       " 'The best known aircraft of this type were manufactured by the German Zeppelin company.': 1.1999999999999997,\n",
       " 'The most successful Zeppelin was the Graf Zeppelin.': 0.1,\n",
       " 'It flew over one million miles, including an around-the-world flight in August 1929.': 0.7,\n",
       " 'However, the dominance of the Zeppelins over the airplanes of that period, which had a range of only a few hundred miles, was diminishing as airplane design advanced.': 0.425,\n",
       " 'The \"Golden Age\" of the airships ended on May 6, 1937, when the Hindenburg caught fire, killing 36 people.': 0.32499999999999996,\n",
       " 'The cause of the Hindenburg accident was initially blamed on the use of hydrogen instead of helium as the lift gas.': 0.5,\n",
       " 'Changes to the coating formulation reduced the risk of further Hindenburg type accidents.': 0.275,\n",
       " 'Although there have been periodic initiatives to revive their use, airships have seen only niche application since that time.': 0.55,\n",
       " 'In 1799, Sir George Cayley set forth the concept of the modern airplane as a fixed-wing flying machine with separate systems for lift, propulsion, and control.': 0.8250000000000001,\n",
       " 'The first recorded powered flight was carried out by Clément Ader on October 9, 1890, in his bat-winged, fully self-propelled fixed-wing aircraft, the Ader Éole.': 1.8250000000000002,\n",
       " 'It was reportedly the first manned, powered, heavier-than-air flight of a significant distance (50 m (160 ft)) but insignificant altitude from level ground.': 1.1250000000000002,\n",
       " \"Seven years later, on 14 October 1897, Ader's Avion III was tested without success in front of two officials from the French War ministry.\": 0.275,\n",
       " 'The report on the trials was not publicized until 1910, as they had been a military secret.': 0.225,\n",
       " 'In November 1906, Ader claimed to have made a successful flight on 14 October 1897, achieving an \"uninterrupted flight\" of around 300 metres (980 feet).': 1.1749999999999998,\n",
       " 'Although widely believed at the time, these claims were later discredited.': 0.45000000000000007,\n",
       " 'The Wright brothers made the first successful powered, controlled and sustained airplane flight on December 17, 1903, a feat made possible by their invention of three-axis control.': 1.3999999999999997,\n",
       " 'Only a decade later, at the start of World War I, heavier-than-air powered aircraft had become practical for reconnaissance, artillery spotting, and even attacks against ground positions.': 1.7749999999999997,\n",
       " 'Aircraft began to transport people and cargo as designs grew larger and more reliable.': 1.55,\n",
       " 'The Wright brothers took aloft the first passenger, Charles Furnas, one of their mechanics, on May 14, 1908.': 0.30000000000000004,\n",
       " 'By the beginning of World War II, many towns and cities had built airports, and there were numerous qualified pilots available.': 0.6,\n",
       " 'The war brought many innovations to aviation, including the first jet aircraft and the first liquid-fueled rockets.': 2.025,\n",
       " 'Manufacturers such as Cessna, Piper, and Beechcraft expanded production to provide light aircraft for the new middle-class market.': 1.375,\n",
       " 'At the same time, turboprop propulsion began to appear for smaller commuter planes, making it possible to serve small-volume routes in a much wider range of weather conditions.': 0.9000000000000002,\n",
       " 'Pilots can navigate much more accurately and view terrain, obstructions, and other nearby aircraft on a map or through synthetic vision, even at night or in low visibility.': 1.5249999999999997,\n",
       " \"On June 21, 2004, SpaceShipOne became the first privately funded aircraft to make a spaceflight, opening the possibility of an aviation market capable of leaving the Earth's atmosphere.\": 2.0,\n",
       " 'Meanwhile, flying prototypes of aircraft powered by alternative fuels, such as ethanol, electricity, and even solar energy, are becoming more common.': 1.6999999999999995,\n",
       " 'Civil aviation includes all non-military flying, both general aviation and scheduled air transport.': 2.375,\n",
       " 'Large networks of specialized parts suppliers from around the world support these manufacturers, who sometimes provide only the initial design and final assembly in their own plants.': 0.5750000000000001,\n",
       " 'The Chinese ACAC consortium will also soon enter the civil transport market with its Comac ARJ21 regional jet.': 0.625,\n",
       " 'Until the 1970s, most major airlines were flag carriers, sponsored by their governments and heavily protected from competition.': 0.45000000000000007,\n",
       " 'Since then, open skies agreements have resulted in increased competition and choice for consumers, coupled with falling prices for airlines.': 0.39999999999999997,\n",
       " 'At the same time, low-cost carriers such as Ryanair, Southwest and WestJet have flourished.': 0.275,\n",
       " 'General aviation includes all non-scheduled civil flying, both private and commercial.': 1.3499999999999999,\n",
       " 'Each country regulates aviation differently, but general aviation usually falls under different regulations depending on whether it is private or commercial and on the type of equipment involved.': 1.9999999999999996,\n",
       " 'Many small aircraft manufacturers serve the general aviation market, with a focus on private aviation and flight training.': 3.5,\n",
       " 'Simple balloons were used as surveillance aircraft as early as the 18th century.': 1.275,\n",
       " 'Over the years, military aircraft have been built to meet ever increasing capability requirements.': 1.3249999999999997,\n",
       " \"Manufacturers of military aircraft compete for contracts to supply their government's arsenal.\": 1.3499999999999996,\n",
       " 'Aircraft are selected based on factors like cost, performance, and the speed of production.': 1.2749999999999997,\n",
       " 'It encompasses the theory, practice, investigation, and categorization of flight failures, and the prevention of such failures through regulation, education, and training.': 0.9000000000000001,\n",
       " 'It can also be applied in the context of campaigns that inform the public as to the safety of air travel.': 0.625,\n",
       " 'An aviation incident is defined as an occurrence, other than an accident, associated with the operation of an aircraft that affects or could affect the safety of operations.': 2.25,\n",
       " 'Controllers may co-ordinate position reports provided by pilots, or in high traffic areas (such as the United States) they may use radar to see aircraft positions.': 1.7,\n",
       " 'However, in very high-traffic areas, especially near major airports, aircraft flying under visual flight rules (VFR) are also required to follow instructions from ATC.': 2.2249999999999996,\n",
       " 'In addition to separation from other aircraft, ATC may provide weather advisories, terrain separation, navigation assistance, and other services to pilots, depending on their workload.': 1.7249999999999996,\n",
       " 'ATC do not control all flights.': 0.32499999999999996,\n",
       " 'Like all activities involving combustion, operating powered aircraft (from airliners to hot air balloons) releases soot and other pollutants into the atmosphere.': 2.3,\n",
       " 'Greenhouse gases such as carbon dioxide (CO2) are also produced.': 0.1,\n",
       " 'In addition, there are environmental impacts specific to aviation: for instance, Another environmental impact of aviation is noise pollution, mainly caused by aircraft taking off and landing.': 2.6999999999999997,\n",
       " 'Sonic booms were a problem with supersonic aircraft such as the concorde': 1.125}"
      ]
     },
     "execution_count": 81,
     "metadata": {},
     "output_type": "execute_result"
    }
   ],
   "source": [
    "sentence_scores"
   ]
  },
  {
   "cell_type": "code",
   "execution_count": 82,
   "metadata": {},
   "outputs": [],
   "source": [
    "sumValues = 0\n",
    "for sentence in sentence_scores:\n",
    "    sumValues += sentence_scores[sentence]\n",
    "average = sumValues / len(sentence_scores)"
   ]
  },
  {
   "cell_type": "code",
   "execution_count": 83,
   "metadata": {},
   "outputs": [
    {
     "name": "stdout",
     "output_type": "stream",
     "text": [
      " Aviation is the activities surrounding mechanical flight and the aircraft industry. Aircraft includes fixed-wing and rotary-wing types, morphable wings, wing-less lifting bodies, as well as lighter-than-air craft such as hot air balloons and airships. Aviation began in the 18th century with the development of the hot air balloon, an apparatus capable of atmospheric displacement through buoyancy. Since that time, aviation has been technologically revolutionized by the introduction of the jet which permitted a major form of transport throughout the world. The modern age of aviation began with the first untethered human lighter-than-air flight on November 21, 1783, of a hot air balloon designed by the Montgolfier brothers. Rigid airships became the first aircraft to transport passengers and cargo over great distances. The first recorded powered flight was carried out by Clément Ader on October 9, 1890, in his bat-winged, fully self-propelled fixed-wing aircraft, the Ader Éole. The Wright brothers made the first successful powered, controlled and sustained airplane flight on December 17, 1903, a feat made possible by their invention of three-axis control. Only a decade later, at the start of World War I, heavier-than-air powered aircraft had become practical for reconnaissance, artillery spotting, and even attacks against ground positions. Aircraft began to transport people and cargo as designs grew larger and more reliable. The war brought many innovations to aviation, including the first jet aircraft and the first liquid-fueled rockets. Pilots can navigate much more accurately and view terrain, obstructions, and other nearby aircraft on a map or through synthetic vision, even at night or in low visibility. On June 21, 2004, SpaceShipOne became the first privately funded aircraft to make a spaceflight, opening the possibility of an aviation market capable of leaving the Earth's atmosphere. Meanwhile, flying prototypes of aircraft powered by alternative fuels, such as ethanol, electricity, and even solar energy, are becoming more common. Civil aviation includes all non-military flying, both general aviation and scheduled air transport. Each country regulates aviation differently, but general aviation usually falls under different regulations depending on whether it is private or commercial and on the type of equipment involved. Many small aircraft manufacturers serve the general aviation market, with a focus on private aviation and flight training. An aviation incident is defined as an occurrence, other than an accident, associated with the operation of an aircraft that affects or could affect the safety of operations. Controllers may co-ordinate position reports provided by pilots, or in high traffic areas (such as the United States) they may use radar to see aircraft positions. However, in very high-traffic areas, especially near major airports, aircraft flying under visual flight rules (VFR) are also required to follow instructions from ATC. In addition to separation from other aircraft, ATC may provide weather advisories, terrain separation, navigation assistance, and other services to pilots, depending on their workload. Like all activities involving combustion, operating powered aircraft (from airliners to hot air balloons) releases soot and other pollutants into the atmosphere. In addition, there are environmental impacts specific to aviation: for instance, Another environmental impact of aviation is noise pollution, mainly caused by aircraft taking off and landing.\n"
     ]
    }
   ],
   "source": [
    "summary = ''\n",
    "for sentence in sentence_list:\n",
    "    if (sentence in sentence_scores) and (sentence_scores[sentence] > (1.2 * average)):\n",
    "        summary += \" \" + sentence\n",
    "print(summary)"
   ]
  },
  {
   "cell_type": "code",
   "execution_count": 84,
   "metadata": {},
   "outputs": [],
   "source": [
    "original_len=len(text)\n"
   ]
  },
  {
   "cell_type": "code",
   "execution_count": 85,
   "metadata": {},
   "outputs": [],
   "source": [
    "summary_len=len(summary)"
   ]
  },
  {
   "cell_type": "code",
   "execution_count": 86,
   "metadata": {},
   "outputs": [
    {
     "name": "stdout",
     "output_type": "stream",
     "text": [
      "Reduction Percentage : 74.55173903650896 %\n"
     ]
    }
   ],
   "source": [
    "print(f'Reduction Percentage : {(100-(summary_len/original_len)*100)} %')"
   ]
  },
  {
   "cell_type": "code",
   "execution_count": null,
   "metadata": {},
   "outputs": [],
   "source": []
  },
  {
   "cell_type": "code",
   "execution_count": null,
   "metadata": {},
   "outputs": [],
   "source": []
  },
  {
   "cell_type": "code",
   "execution_count": null,
   "metadata": {},
   "outputs": [],
   "source": []
  },
  {
   "cell_type": "code",
   "execution_count": null,
   "metadata": {},
   "outputs": [],
   "source": []
  }
 ],
 "metadata": {
  "kernelspec": {
   "display_name": "Python 3",
   "language": "python",
   "name": "python3"
  },
  "language_info": {
   "codemirror_mode": {
    "name": "ipython",
    "version": 3
   },
   "file_extension": ".py",
   "mimetype": "text/x-python",
   "name": "python",
   "nbconvert_exporter": "python",
   "pygments_lexer": "ipython3",
   "version": "3.7.6"
  }
 },
 "nbformat": 4,
 "nbformat_minor": 4
}
